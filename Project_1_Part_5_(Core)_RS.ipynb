{
  "nbformat": 4,
  "nbformat_minor": 0,
  "metadata": {
    "colab": {
      "provenance": [],
      "collapsed_sections": [],
      "mount_file_id": "16hhZsKsLMKKvea8gZyn4-wfgeZFvZXX0",
      "authorship_tag": "ABX9TyOTamrmbFb7XSv7jo97mCo3",
      "include_colab_link": true
    },
    "kernelspec": {
      "name": "python3",
      "display_name": "Python 3"
    },
    "language_info": {
      "name": "python"
    }
  },
  "cells": [
    {
      "cell_type": "markdown",
      "metadata": {
        "id": "view-in-github",
        "colab_type": "text"
      },
      "source": [
        "<a href=\"https://colab.research.google.com/github/Richard-Shimada/food-sales-predictions/blob/main/Project_1_Part_5_(Core)_RS.ipynb\" target=\"_parent\"><img src=\"https://colab.research.google.com/assets/colab-badge.svg\" alt=\"Open In Colab\"/></a>"
      ]
    },
    {
      "cell_type": "code",
      "execution_count": 68,
      "metadata": {
        "colab": {
          "base_uri": "https://localhost:8080/",
          "height": 206
        },
        "id": "uTVjTlLrvPNI",
        "outputId": "d6cba994-6bd6-4a2c-c928-e9d34ec829c1"
      },
      "outputs": [
        {
          "output_type": "execute_result",
          "data": {
            "text/plain": [
              "  Item_Identifier  Item_Weight Item_Fat_Content  Item_Visibility  \\\n",
              "0           FDA15         9.30          Low Fat         0.016047   \n",
              "1           DRC01         5.92          Regular         0.019278   \n",
              "2           FDN15        17.50          Low Fat         0.016760   \n",
              "3           FDX07        19.20          Regular         0.000000   \n",
              "4           NCD19         8.93          Low Fat         0.000000   \n",
              "\n",
              "               Item_Type  Item_MRP Outlet_Identifier  \\\n",
              "0                  Dairy  249.8092            OUT049   \n",
              "1            Soft Drinks   48.2692            OUT018   \n",
              "2                   Meat  141.6180            OUT049   \n",
              "3  Fruits and Vegetables  182.0950            OUT010   \n",
              "4              Household   53.8614            OUT013   \n",
              "\n",
              "   Outlet_Establishment_Year Outlet_Size Outlet_Location_Type  \\\n",
              "0                       1999      Medium               Tier 1   \n",
              "1                       2009      Medium               Tier 3   \n",
              "2                       1999      Medium               Tier 1   \n",
              "3                       1998         NaN               Tier 3   \n",
              "4                       1987        High               Tier 3   \n",
              "\n",
              "         Outlet_Type  Item_Outlet_Sales  \n",
              "0  Supermarket Type1          3735.1380  \n",
              "1  Supermarket Type2           443.4228  \n",
              "2  Supermarket Type1          2097.2700  \n",
              "3      Grocery Store           732.3800  \n",
              "4  Supermarket Type1           994.7052  "
            ],
            "text/html": [
              "\n",
              "  <div id=\"df-a31316ae-5989-48a3-9c3a-e21d685e0507\">\n",
              "    <div class=\"colab-df-container\">\n",
              "      <div>\n",
              "<style scoped>\n",
              "    .dataframe tbody tr th:only-of-type {\n",
              "        vertical-align: middle;\n",
              "    }\n",
              "\n",
              "    .dataframe tbody tr th {\n",
              "        vertical-align: top;\n",
              "    }\n",
              "\n",
              "    .dataframe thead th {\n",
              "        text-align: right;\n",
              "    }\n",
              "</style>\n",
              "<table border=\"1\" class=\"dataframe\">\n",
              "  <thead>\n",
              "    <tr style=\"text-align: right;\">\n",
              "      <th></th>\n",
              "      <th>Item_Identifier</th>\n",
              "      <th>Item_Weight</th>\n",
              "      <th>Item_Fat_Content</th>\n",
              "      <th>Item_Visibility</th>\n",
              "      <th>Item_Type</th>\n",
              "      <th>Item_MRP</th>\n",
              "      <th>Outlet_Identifier</th>\n",
              "      <th>Outlet_Establishment_Year</th>\n",
              "      <th>Outlet_Size</th>\n",
              "      <th>Outlet_Location_Type</th>\n",
              "      <th>Outlet_Type</th>\n",
              "      <th>Item_Outlet_Sales</th>\n",
              "    </tr>\n",
              "  </thead>\n",
              "  <tbody>\n",
              "    <tr>\n",
              "      <th>0</th>\n",
              "      <td>FDA15</td>\n",
              "      <td>9.30</td>\n",
              "      <td>Low Fat</td>\n",
              "      <td>0.016047</td>\n",
              "      <td>Dairy</td>\n",
              "      <td>249.8092</td>\n",
              "      <td>OUT049</td>\n",
              "      <td>1999</td>\n",
              "      <td>Medium</td>\n",
              "      <td>Tier 1</td>\n",
              "      <td>Supermarket Type1</td>\n",
              "      <td>3735.1380</td>\n",
              "    </tr>\n",
              "    <tr>\n",
              "      <th>1</th>\n",
              "      <td>DRC01</td>\n",
              "      <td>5.92</td>\n",
              "      <td>Regular</td>\n",
              "      <td>0.019278</td>\n",
              "      <td>Soft Drinks</td>\n",
              "      <td>48.2692</td>\n",
              "      <td>OUT018</td>\n",
              "      <td>2009</td>\n",
              "      <td>Medium</td>\n",
              "      <td>Tier 3</td>\n",
              "      <td>Supermarket Type2</td>\n",
              "      <td>443.4228</td>\n",
              "    </tr>\n",
              "    <tr>\n",
              "      <th>2</th>\n",
              "      <td>FDN15</td>\n",
              "      <td>17.50</td>\n",
              "      <td>Low Fat</td>\n",
              "      <td>0.016760</td>\n",
              "      <td>Meat</td>\n",
              "      <td>141.6180</td>\n",
              "      <td>OUT049</td>\n",
              "      <td>1999</td>\n",
              "      <td>Medium</td>\n",
              "      <td>Tier 1</td>\n",
              "      <td>Supermarket Type1</td>\n",
              "      <td>2097.2700</td>\n",
              "    </tr>\n",
              "    <tr>\n",
              "      <th>3</th>\n",
              "      <td>FDX07</td>\n",
              "      <td>19.20</td>\n",
              "      <td>Regular</td>\n",
              "      <td>0.000000</td>\n",
              "      <td>Fruits and Vegetables</td>\n",
              "      <td>182.0950</td>\n",
              "      <td>OUT010</td>\n",
              "      <td>1998</td>\n",
              "      <td>NaN</td>\n",
              "      <td>Tier 3</td>\n",
              "      <td>Grocery Store</td>\n",
              "      <td>732.3800</td>\n",
              "    </tr>\n",
              "    <tr>\n",
              "      <th>4</th>\n",
              "      <td>NCD19</td>\n",
              "      <td>8.93</td>\n",
              "      <td>Low Fat</td>\n",
              "      <td>0.000000</td>\n",
              "      <td>Household</td>\n",
              "      <td>53.8614</td>\n",
              "      <td>OUT013</td>\n",
              "      <td>1987</td>\n",
              "      <td>High</td>\n",
              "      <td>Tier 3</td>\n",
              "      <td>Supermarket Type1</td>\n",
              "      <td>994.7052</td>\n",
              "    </tr>\n",
              "  </tbody>\n",
              "</table>\n",
              "</div>\n",
              "      <button class=\"colab-df-convert\" onclick=\"convertToInteractive('df-a31316ae-5989-48a3-9c3a-e21d685e0507')\"\n",
              "              title=\"Convert this dataframe to an interactive table.\"\n",
              "              style=\"display:none;\">\n",
              "        \n",
              "  <svg xmlns=\"http://www.w3.org/2000/svg\" height=\"24px\"viewBox=\"0 0 24 24\"\n",
              "       width=\"24px\">\n",
              "    <path d=\"M0 0h24v24H0V0z\" fill=\"none\"/>\n",
              "    <path d=\"M18.56 5.44l.94 2.06.94-2.06 2.06-.94-2.06-.94-.94-2.06-.94 2.06-2.06.94zm-11 1L8.5 8.5l.94-2.06 2.06-.94-2.06-.94L8.5 2.5l-.94 2.06-2.06.94zm10 10l.94 2.06.94-2.06 2.06-.94-2.06-.94-.94-2.06-.94 2.06-2.06.94z\"/><path d=\"M17.41 7.96l-1.37-1.37c-.4-.4-.92-.59-1.43-.59-.52 0-1.04.2-1.43.59L10.3 9.45l-7.72 7.72c-.78.78-.78 2.05 0 2.83L4 21.41c.39.39.9.59 1.41.59.51 0 1.02-.2 1.41-.59l7.78-7.78 2.81-2.81c.8-.78.8-2.07 0-2.86zM5.41 20L4 18.59l7.72-7.72 1.47 1.35L5.41 20z\"/>\n",
              "  </svg>\n",
              "      </button>\n",
              "      \n",
              "  <style>\n",
              "    .colab-df-container {\n",
              "      display:flex;\n",
              "      flex-wrap:wrap;\n",
              "      gap: 12px;\n",
              "    }\n",
              "\n",
              "    .colab-df-convert {\n",
              "      background-color: #E8F0FE;\n",
              "      border: none;\n",
              "      border-radius: 50%;\n",
              "      cursor: pointer;\n",
              "      display: none;\n",
              "      fill: #1967D2;\n",
              "      height: 32px;\n",
              "      padding: 0 0 0 0;\n",
              "      width: 32px;\n",
              "    }\n",
              "\n",
              "    .colab-df-convert:hover {\n",
              "      background-color: #E2EBFA;\n",
              "      box-shadow: 0px 1px 2px rgba(60, 64, 67, 0.3), 0px 1px 3px 1px rgba(60, 64, 67, 0.15);\n",
              "      fill: #174EA6;\n",
              "    }\n",
              "\n",
              "    [theme=dark] .colab-df-convert {\n",
              "      background-color: #3B4455;\n",
              "      fill: #D2E3FC;\n",
              "    }\n",
              "\n",
              "    [theme=dark] .colab-df-convert:hover {\n",
              "      background-color: #434B5C;\n",
              "      box-shadow: 0px 1px 3px 1px rgba(0, 0, 0, 0.15);\n",
              "      filter: drop-shadow(0px 1px 2px rgba(0, 0, 0, 0.3));\n",
              "      fill: #FFFFFF;\n",
              "    }\n",
              "  </style>\n",
              "\n",
              "      <script>\n",
              "        const buttonEl =\n",
              "          document.querySelector('#df-a31316ae-5989-48a3-9c3a-e21d685e0507 button.colab-df-convert');\n",
              "        buttonEl.style.display =\n",
              "          google.colab.kernel.accessAllowed ? 'block' : 'none';\n",
              "\n",
              "        async function convertToInteractive(key) {\n",
              "          const element = document.querySelector('#df-a31316ae-5989-48a3-9c3a-e21d685e0507');\n",
              "          const dataTable =\n",
              "            await google.colab.kernel.invokeFunction('convertToInteractive',\n",
              "                                                     [key], {});\n",
              "          if (!dataTable) return;\n",
              "\n",
              "          const docLinkHtml = 'Like what you see? Visit the ' +\n",
              "            '<a target=\"_blank\" href=https://colab.research.google.com/notebooks/data_table.ipynb>data table notebook</a>'\n",
              "            + ' to learn more about interactive tables.';\n",
              "          element.innerHTML = '';\n",
              "          dataTable['output_type'] = 'display_data';\n",
              "          await google.colab.output.renderOutput(dataTable, element);\n",
              "          const docLink = document.createElement('div');\n",
              "          docLink.innerHTML = docLinkHtml;\n",
              "          element.appendChild(docLink);\n",
              "        }\n",
              "      </script>\n",
              "    </div>\n",
              "  </div>\n",
              "  "
            ]
          },
          "metadata": {},
          "execution_count": 68
        }
      ],
      "source": [
        "#import libraries and load data\n",
        "import pandas as pd\n",
        "import numpy as np\n",
        "from sklearn.preprocessing import StandardScaler, OneHotEncoder\n",
        "from sklearn.impute import SimpleImputer\n",
        "from sklearn.compose import make_column_transformer, make_column_selector\n",
        "from sklearn.pipeline import make_pipeline\n",
        "from sklearn.model_selection import train_test_split\n",
        "from sklearn import set_config\n",
        "set_config(display='diagram')\n",
        "\n",
        "df = pd.read_csv('/content/drive/MyDrive/Coding Dojo 2022/05 Week 5: Intro to Machine Learning and Pre-Processing/sales_predictions_original.csv')\n",
        "sales_df = df.copy()\n",
        "sales_df.head()"
      ]
    },
    {
      "cell_type": "code",
      "source": [
        "#no duplicates\n",
        "sales_df.duplicated().sum()\n",
        "\n"
      ],
      "metadata": {
        "colab": {
          "base_uri": "https://localhost:8080/"
        },
        "id": "McBzyIV1viD6",
        "outputId": "64c014dd-91f7-4221-fcaf-bb81ed73b8c8"
      },
      "execution_count": 69,
      "outputs": [
        {
          "output_type": "execute_result",
          "data": {
            "text/plain": [
              "0"
            ]
          },
          "metadata": {},
          "execution_count": 69
        }
      ]
    },
    {
      "cell_type": "code",
      "source": [
        "#change all values to Low Fat or Regular. Will ordinal encode assuming that the average consumer will be health conscious where possible, can also see the one hot encode point of view one is not inherently better than the other in terms of predicting sales\n",
        "sales_df['Item_Fat_Content'].value_counts()\n",
        "sales_df['Item_Fat_Content'].replace({'Low Fat':0,'LF':0,'low fat':0,'Regular':1,'reg':1},inplace=True)\n",
        "sales_df['Item_Fat_Content'].value_counts()"
      ],
      "metadata": {
        "colab": {
          "base_uri": "https://localhost:8080/"
        },
        "id": "BCk9eZkkxTEI",
        "outputId": "ebf3d08f-0259-4d07-9166-77d229cf5469"
      },
      "execution_count": 70,
      "outputs": [
        {
          "output_type": "execute_result",
          "data": {
            "text/plain": [
              "0    5517\n",
              "1    3006\n",
              "Name: Item_Fat_Content, dtype: int64"
            ]
          },
          "metadata": {},
          "execution_count": 70
        }
      ]
    },
    {
      "cell_type": "code",
      "source": [
        "sales_df['Outlet_Identifier'].nunique()\n",
        "#sales_df.shape"
      ],
      "metadata": {
        "colab": {
          "base_uri": "https://localhost:8080/"
        },
        "id": "A6eeNQ-X03Fw",
        "outputId": "2dd30c8d-db6d-46e9-ea33-c5e8c0a7f481"
      },
      "execution_count": 71,
      "outputs": [
        {
          "output_type": "execute_result",
          "data": {
            "text/plain": [
              "10"
            ]
          },
          "metadata": {},
          "execution_count": 71
        }
      ]
    },
    {
      "cell_type": "code",
      "source": [
        "# Identifying the features (X) and target (y): \"Item_Outlet_Sales\" column is the target; dropped Item_Identifier and Outlet_Identifier from the features matrix as they are just IDs that wouldn't have any predicting power \n",
        "\n",
        "X = sales_df.drop(['Item_Identifier','Outlet_Identifier','Item_Outlet_Sales'],axis=1)\n",
        "y = sales_df['Item_Outlet_Sales']"
      ],
      "metadata": {
        "id": "yTEDiDrLwJe8"
      },
      "execution_count": 72,
      "outputs": []
    },
    {
      "cell_type": "code",
      "source": [
        "# Perform a train test split \n",
        "X_train,X_test,y_train,y_test = train_test_split(X,y,random_state=42)"
      ],
      "metadata": {
        "id": "zGIEg31-1h4n"
      },
      "execution_count": 73,
      "outputs": []
    },
    {
      "cell_type": "code",
      "source": [
        "# Create a preprocessing object to prepare the dataset for Machine Learning\n",
        "categorical_columns = make_column_selector(dtype_include='object')\n",
        "numeric_columns = make_column_selector(dtype_include='number')"
      ],
      "metadata": {
        "id": "_7WQ_o791jfJ"
      },
      "execution_count": 74,
      "outputs": []
    },
    {
      "cell_type": "code",
      "source": [
        "#Need to address null values in Item_weight and Outlet_Size\n",
        "X_train.isna().sum()"
      ],
      "metadata": {
        "colab": {
          "base_uri": "https://localhost:8080/"
        },
        "id": "IE9KaM043Yvu",
        "outputId": "bd73c864-4920-481c-bcd7-010e8d50fe0f"
      },
      "execution_count": 75,
      "outputs": [
        {
          "output_type": "execute_result",
          "data": {
            "text/plain": [
              "Item_Weight                  1107\n",
              "Item_Fat_Content                0\n",
              "Item_Visibility                 0\n",
              "Item_Type                       0\n",
              "Item_MRP                        0\n",
              "Outlet_Establishment_Year       0\n",
              "Outlet_Size                  1812\n",
              "Outlet_Location_Type            0\n",
              "Outlet_Type                     0\n",
              "dtype: int64"
            ]
          },
          "metadata": {},
          "execution_count": 75
        }
      ]
    },
    {
      "cell_type": "code",
      "source": [
        "\n",
        "#X_train['Item_Weight'].nunique()\n",
        "#Since item weight is continuous and has many different values,  we will use the mean to impute values\n",
        "\n",
        "#For rows where Outlet_Size is not null,Outlet_Location_Type of Tier 2 only appears in Outlet_Size of Small, same for Outlet_Type = Grocery Store.\n",
        "#For all rows where Outlet_Size is null, values of either Tier 2 or Grocery are in each row! So we will impute the NaN to Small\n",
        "#X_train['Outlet_Size'].value_counts()\n",
        "#X_train.groupby(['Outlet_Size','Outlet_Location_Type','Outlet_Type'],dropna=False)['Item_MRP'].sum()\n",
        "\n"
      ],
      "metadata": {
        "id": "ldzlPhaR5HgL"
      },
      "execution_count": 76,
      "outputs": []
    },
    {
      "cell_type": "code",
      "source": [
        "#instantiate scalar and ohe\n",
        "#For imputing, using the ‘mean’ strategy for Item_Weight and the constant(Small) strategy for Outlet_Size\n",
        "constant_imputer = SimpleImputer(strategy='constant',fill_value='Small')\n",
        "mean_imputer = SimpleImputer(strategy='mean')\n",
        "# Scaler\n",
        "scaler = StandardScaler()\n",
        "# One-hot encoder\n",
        "ohe = OneHotEncoder(handle_unknown='ignore', sparse=False)"
      ],
      "metadata": {
        "id": "J2Xe06Ee3U1n"
      },
      "execution_count": 77,
      "outputs": []
    },
    {
      "cell_type": "code",
      "source": [
        "numeric_pipeline = make_pipeline(mean_imputer,scaler)\n",
        "numeric_pipeline"
      ],
      "metadata": {
        "colab": {
          "base_uri": "https://localhost:8080/",
          "height": 126
        },
        "id": "MZfp2Vpn7Uvt",
        "outputId": "29e71e65-ec5b-40e8-d614-898ef27eb5ae"
      },
      "execution_count": 78,
      "outputs": [
        {
          "output_type": "execute_result",
          "data": {
            "text/plain": [
              "Pipeline(steps=[('simpleimputer', SimpleImputer()),\n",
              "                ('standardscaler', StandardScaler())])"
            ],
            "text/html": [
              "<style>#sk-d8b2d6b7-c367-44ba-a6f1-b792dc8150f3 {color: black;background-color: white;}#sk-d8b2d6b7-c367-44ba-a6f1-b792dc8150f3 pre{padding: 0;}#sk-d8b2d6b7-c367-44ba-a6f1-b792dc8150f3 div.sk-toggleable {background-color: white;}#sk-d8b2d6b7-c367-44ba-a6f1-b792dc8150f3 label.sk-toggleable__label {cursor: pointer;display: block;width: 100%;margin-bottom: 0;padding: 0.3em;box-sizing: border-box;text-align: center;}#sk-d8b2d6b7-c367-44ba-a6f1-b792dc8150f3 label.sk-toggleable__label-arrow:before {content: \"▸\";float: left;margin-right: 0.25em;color: #696969;}#sk-d8b2d6b7-c367-44ba-a6f1-b792dc8150f3 label.sk-toggleable__label-arrow:hover:before {color: black;}#sk-d8b2d6b7-c367-44ba-a6f1-b792dc8150f3 div.sk-estimator:hover label.sk-toggleable__label-arrow:before {color: black;}#sk-d8b2d6b7-c367-44ba-a6f1-b792dc8150f3 div.sk-toggleable__content {max-height: 0;max-width: 0;overflow: hidden;text-align: left;background-color: #f0f8ff;}#sk-d8b2d6b7-c367-44ba-a6f1-b792dc8150f3 div.sk-toggleable__content pre {margin: 0.2em;color: black;border-radius: 0.25em;background-color: #f0f8ff;}#sk-d8b2d6b7-c367-44ba-a6f1-b792dc8150f3 input.sk-toggleable__control:checked~div.sk-toggleable__content {max-height: 200px;max-width: 100%;overflow: auto;}#sk-d8b2d6b7-c367-44ba-a6f1-b792dc8150f3 input.sk-toggleable__control:checked~label.sk-toggleable__label-arrow:before {content: \"▾\";}#sk-d8b2d6b7-c367-44ba-a6f1-b792dc8150f3 div.sk-estimator input.sk-toggleable__control:checked~label.sk-toggleable__label {background-color: #d4ebff;}#sk-d8b2d6b7-c367-44ba-a6f1-b792dc8150f3 div.sk-label input.sk-toggleable__control:checked~label.sk-toggleable__label {background-color: #d4ebff;}#sk-d8b2d6b7-c367-44ba-a6f1-b792dc8150f3 input.sk-hidden--visually {border: 0;clip: rect(1px 1px 1px 1px);clip: rect(1px, 1px, 1px, 1px);height: 1px;margin: -1px;overflow: hidden;padding: 0;position: absolute;width: 1px;}#sk-d8b2d6b7-c367-44ba-a6f1-b792dc8150f3 div.sk-estimator {font-family: monospace;background-color: #f0f8ff;border: 1px dotted black;border-radius: 0.25em;box-sizing: border-box;margin-bottom: 0.5em;}#sk-d8b2d6b7-c367-44ba-a6f1-b792dc8150f3 div.sk-estimator:hover {background-color: #d4ebff;}#sk-d8b2d6b7-c367-44ba-a6f1-b792dc8150f3 div.sk-parallel-item::after {content: \"\";width: 100%;border-bottom: 1px solid gray;flex-grow: 1;}#sk-d8b2d6b7-c367-44ba-a6f1-b792dc8150f3 div.sk-label:hover label.sk-toggleable__label {background-color: #d4ebff;}#sk-d8b2d6b7-c367-44ba-a6f1-b792dc8150f3 div.sk-serial::before {content: \"\";position: absolute;border-left: 1px solid gray;box-sizing: border-box;top: 2em;bottom: 0;left: 50%;}#sk-d8b2d6b7-c367-44ba-a6f1-b792dc8150f3 div.sk-serial {display: flex;flex-direction: column;align-items: center;background-color: white;padding-right: 0.2em;padding-left: 0.2em;}#sk-d8b2d6b7-c367-44ba-a6f1-b792dc8150f3 div.sk-item {z-index: 1;}#sk-d8b2d6b7-c367-44ba-a6f1-b792dc8150f3 div.sk-parallel {display: flex;align-items: stretch;justify-content: center;background-color: white;}#sk-d8b2d6b7-c367-44ba-a6f1-b792dc8150f3 div.sk-parallel::before {content: \"\";position: absolute;border-left: 1px solid gray;box-sizing: border-box;top: 2em;bottom: 0;left: 50%;}#sk-d8b2d6b7-c367-44ba-a6f1-b792dc8150f3 div.sk-parallel-item {display: flex;flex-direction: column;position: relative;background-color: white;}#sk-d8b2d6b7-c367-44ba-a6f1-b792dc8150f3 div.sk-parallel-item:first-child::after {align-self: flex-end;width: 50%;}#sk-d8b2d6b7-c367-44ba-a6f1-b792dc8150f3 div.sk-parallel-item:last-child::after {align-self: flex-start;width: 50%;}#sk-d8b2d6b7-c367-44ba-a6f1-b792dc8150f3 div.sk-parallel-item:only-child::after {width: 0;}#sk-d8b2d6b7-c367-44ba-a6f1-b792dc8150f3 div.sk-dashed-wrapped {border: 1px dashed gray;margin: 0 0.4em 0.5em 0.4em;box-sizing: border-box;padding-bottom: 0.4em;background-color: white;position: relative;}#sk-d8b2d6b7-c367-44ba-a6f1-b792dc8150f3 div.sk-label label {font-family: monospace;font-weight: bold;background-color: white;display: inline-block;line-height: 1.2em;}#sk-d8b2d6b7-c367-44ba-a6f1-b792dc8150f3 div.sk-label-container {position: relative;z-index: 2;text-align: center;}#sk-d8b2d6b7-c367-44ba-a6f1-b792dc8150f3 div.sk-container {/* jupyter's `normalize.less` sets `[hidden] { display: none; }` but bootstrap.min.css set `[hidden] { display: none !important; }` so we also need the `!important` here to be able to override the default hidden behavior on the sphinx rendered scikit-learn.org. See: https://github.com/scikit-learn/scikit-learn/issues/21755 */display: inline-block !important;position: relative;}#sk-d8b2d6b7-c367-44ba-a6f1-b792dc8150f3 div.sk-text-repr-fallback {display: none;}</style><div id=\"sk-d8b2d6b7-c367-44ba-a6f1-b792dc8150f3\" class=\"sk-top-container\"><div class=\"sk-text-repr-fallback\"><pre>Pipeline(steps=[(&#x27;simpleimputer&#x27;, SimpleImputer()),\n",
              "                (&#x27;standardscaler&#x27;, StandardScaler())])</pre><b>Please rerun this cell to show the HTML repr or trust the notebook.</b></div><div class=\"sk-container\" hidden><div class=\"sk-item sk-dashed-wrapped\"><div class=\"sk-label-container\"><div class=\"sk-label sk-toggleable\"><input class=\"sk-toggleable__control sk-hidden--visually\" id=\"57a5f7ab-eac7-40e7-9db0-374b73edb451\" type=\"checkbox\" ><label for=\"57a5f7ab-eac7-40e7-9db0-374b73edb451\" class=\"sk-toggleable__label sk-toggleable__label-arrow\">Pipeline</label><div class=\"sk-toggleable__content\"><pre>Pipeline(steps=[(&#x27;simpleimputer&#x27;, SimpleImputer()),\n",
              "                (&#x27;standardscaler&#x27;, StandardScaler())])</pre></div></div></div><div class=\"sk-serial\"><div class=\"sk-item\"><div class=\"sk-estimator sk-toggleable\"><input class=\"sk-toggleable__control sk-hidden--visually\" id=\"1ba1e262-4995-4318-b28b-21eb46d7ae56\" type=\"checkbox\" ><label for=\"1ba1e262-4995-4318-b28b-21eb46d7ae56\" class=\"sk-toggleable__label sk-toggleable__label-arrow\">SimpleImputer</label><div class=\"sk-toggleable__content\"><pre>SimpleImputer()</pre></div></div></div><div class=\"sk-item\"><div class=\"sk-estimator sk-toggleable\"><input class=\"sk-toggleable__control sk-hidden--visually\" id=\"669d195f-f310-46c2-8374-f3861e308acc\" type=\"checkbox\" ><label for=\"669d195f-f310-46c2-8374-f3861e308acc\" class=\"sk-toggleable__label sk-toggleable__label-arrow\">StandardScaler</label><div class=\"sk-toggleable__content\"><pre>StandardScaler()</pre></div></div></div></div></div></div></div>"
            ]
          },
          "metadata": {},
          "execution_count": 78
        }
      ]
    },
    {
      "cell_type": "code",
      "source": [
        "categorical_pipeline = make_pipeline(constant_imputer,ohe)\n",
        "categorical_pipeline"
      ],
      "metadata": {
        "colab": {
          "base_uri": "https://localhost:8080/",
          "height": 126
        },
        "id": "bT1NbJ0E7kc8",
        "outputId": "718582e7-a207-471a-9a72-9f109ed84f93"
      },
      "execution_count": 79,
      "outputs": [
        {
          "output_type": "execute_result",
          "data": {
            "text/plain": [
              "Pipeline(steps=[('simpleimputer',\n",
              "                 SimpleImputer(fill_value='Small', strategy='constant')),\n",
              "                ('onehotencoder',\n",
              "                 OneHotEncoder(handle_unknown='ignore', sparse=False))])"
            ],
            "text/html": [
              "<style>#sk-51e85128-5b9c-4b84-b86d-cdd065099c6e {color: black;background-color: white;}#sk-51e85128-5b9c-4b84-b86d-cdd065099c6e pre{padding: 0;}#sk-51e85128-5b9c-4b84-b86d-cdd065099c6e div.sk-toggleable {background-color: white;}#sk-51e85128-5b9c-4b84-b86d-cdd065099c6e label.sk-toggleable__label {cursor: pointer;display: block;width: 100%;margin-bottom: 0;padding: 0.3em;box-sizing: border-box;text-align: center;}#sk-51e85128-5b9c-4b84-b86d-cdd065099c6e label.sk-toggleable__label-arrow:before {content: \"▸\";float: left;margin-right: 0.25em;color: #696969;}#sk-51e85128-5b9c-4b84-b86d-cdd065099c6e label.sk-toggleable__label-arrow:hover:before {color: black;}#sk-51e85128-5b9c-4b84-b86d-cdd065099c6e div.sk-estimator:hover label.sk-toggleable__label-arrow:before {color: black;}#sk-51e85128-5b9c-4b84-b86d-cdd065099c6e div.sk-toggleable__content {max-height: 0;max-width: 0;overflow: hidden;text-align: left;background-color: #f0f8ff;}#sk-51e85128-5b9c-4b84-b86d-cdd065099c6e div.sk-toggleable__content pre {margin: 0.2em;color: black;border-radius: 0.25em;background-color: #f0f8ff;}#sk-51e85128-5b9c-4b84-b86d-cdd065099c6e input.sk-toggleable__control:checked~div.sk-toggleable__content {max-height: 200px;max-width: 100%;overflow: auto;}#sk-51e85128-5b9c-4b84-b86d-cdd065099c6e input.sk-toggleable__control:checked~label.sk-toggleable__label-arrow:before {content: \"▾\";}#sk-51e85128-5b9c-4b84-b86d-cdd065099c6e div.sk-estimator input.sk-toggleable__control:checked~label.sk-toggleable__label {background-color: #d4ebff;}#sk-51e85128-5b9c-4b84-b86d-cdd065099c6e div.sk-label input.sk-toggleable__control:checked~label.sk-toggleable__label {background-color: #d4ebff;}#sk-51e85128-5b9c-4b84-b86d-cdd065099c6e input.sk-hidden--visually {border: 0;clip: rect(1px 1px 1px 1px);clip: rect(1px, 1px, 1px, 1px);height: 1px;margin: -1px;overflow: hidden;padding: 0;position: absolute;width: 1px;}#sk-51e85128-5b9c-4b84-b86d-cdd065099c6e div.sk-estimator {font-family: monospace;background-color: #f0f8ff;border: 1px dotted black;border-radius: 0.25em;box-sizing: border-box;margin-bottom: 0.5em;}#sk-51e85128-5b9c-4b84-b86d-cdd065099c6e div.sk-estimator:hover {background-color: #d4ebff;}#sk-51e85128-5b9c-4b84-b86d-cdd065099c6e div.sk-parallel-item::after {content: \"\";width: 100%;border-bottom: 1px solid gray;flex-grow: 1;}#sk-51e85128-5b9c-4b84-b86d-cdd065099c6e div.sk-label:hover label.sk-toggleable__label {background-color: #d4ebff;}#sk-51e85128-5b9c-4b84-b86d-cdd065099c6e div.sk-serial::before {content: \"\";position: absolute;border-left: 1px solid gray;box-sizing: border-box;top: 2em;bottom: 0;left: 50%;}#sk-51e85128-5b9c-4b84-b86d-cdd065099c6e div.sk-serial {display: flex;flex-direction: column;align-items: center;background-color: white;padding-right: 0.2em;padding-left: 0.2em;}#sk-51e85128-5b9c-4b84-b86d-cdd065099c6e div.sk-item {z-index: 1;}#sk-51e85128-5b9c-4b84-b86d-cdd065099c6e div.sk-parallel {display: flex;align-items: stretch;justify-content: center;background-color: white;}#sk-51e85128-5b9c-4b84-b86d-cdd065099c6e div.sk-parallel::before {content: \"\";position: absolute;border-left: 1px solid gray;box-sizing: border-box;top: 2em;bottom: 0;left: 50%;}#sk-51e85128-5b9c-4b84-b86d-cdd065099c6e div.sk-parallel-item {display: flex;flex-direction: column;position: relative;background-color: white;}#sk-51e85128-5b9c-4b84-b86d-cdd065099c6e div.sk-parallel-item:first-child::after {align-self: flex-end;width: 50%;}#sk-51e85128-5b9c-4b84-b86d-cdd065099c6e div.sk-parallel-item:last-child::after {align-self: flex-start;width: 50%;}#sk-51e85128-5b9c-4b84-b86d-cdd065099c6e div.sk-parallel-item:only-child::after {width: 0;}#sk-51e85128-5b9c-4b84-b86d-cdd065099c6e div.sk-dashed-wrapped {border: 1px dashed gray;margin: 0 0.4em 0.5em 0.4em;box-sizing: border-box;padding-bottom: 0.4em;background-color: white;position: relative;}#sk-51e85128-5b9c-4b84-b86d-cdd065099c6e div.sk-label label {font-family: monospace;font-weight: bold;background-color: white;display: inline-block;line-height: 1.2em;}#sk-51e85128-5b9c-4b84-b86d-cdd065099c6e div.sk-label-container {position: relative;z-index: 2;text-align: center;}#sk-51e85128-5b9c-4b84-b86d-cdd065099c6e div.sk-container {/* jupyter's `normalize.less` sets `[hidden] { display: none; }` but bootstrap.min.css set `[hidden] { display: none !important; }` so we also need the `!important` here to be able to override the default hidden behavior on the sphinx rendered scikit-learn.org. See: https://github.com/scikit-learn/scikit-learn/issues/21755 */display: inline-block !important;position: relative;}#sk-51e85128-5b9c-4b84-b86d-cdd065099c6e div.sk-text-repr-fallback {display: none;}</style><div id=\"sk-51e85128-5b9c-4b84-b86d-cdd065099c6e\" class=\"sk-top-container\"><div class=\"sk-text-repr-fallback\"><pre>Pipeline(steps=[(&#x27;simpleimputer&#x27;,\n",
              "                 SimpleImputer(fill_value=&#x27;Small&#x27;, strategy=&#x27;constant&#x27;)),\n",
              "                (&#x27;onehotencoder&#x27;,\n",
              "                 OneHotEncoder(handle_unknown=&#x27;ignore&#x27;, sparse=False))])</pre><b>Please rerun this cell to show the HTML repr or trust the notebook.</b></div><div class=\"sk-container\" hidden><div class=\"sk-item sk-dashed-wrapped\"><div class=\"sk-label-container\"><div class=\"sk-label sk-toggleable\"><input class=\"sk-toggleable__control sk-hidden--visually\" id=\"98f67817-ec3e-4eac-b5c4-ccf2875f0b22\" type=\"checkbox\" ><label for=\"98f67817-ec3e-4eac-b5c4-ccf2875f0b22\" class=\"sk-toggleable__label sk-toggleable__label-arrow\">Pipeline</label><div class=\"sk-toggleable__content\"><pre>Pipeline(steps=[(&#x27;simpleimputer&#x27;,\n",
              "                 SimpleImputer(fill_value=&#x27;Small&#x27;, strategy=&#x27;constant&#x27;)),\n",
              "                (&#x27;onehotencoder&#x27;,\n",
              "                 OneHotEncoder(handle_unknown=&#x27;ignore&#x27;, sparse=False))])</pre></div></div></div><div class=\"sk-serial\"><div class=\"sk-item\"><div class=\"sk-estimator sk-toggleable\"><input class=\"sk-toggleable__control sk-hidden--visually\" id=\"35367636-7775-44a3-9189-aa40bd092053\" type=\"checkbox\" ><label for=\"35367636-7775-44a3-9189-aa40bd092053\" class=\"sk-toggleable__label sk-toggleable__label-arrow\">SimpleImputer</label><div class=\"sk-toggleable__content\"><pre>SimpleImputer(fill_value=&#x27;Small&#x27;, strategy=&#x27;constant&#x27;)</pre></div></div></div><div class=\"sk-item\"><div class=\"sk-estimator sk-toggleable\"><input class=\"sk-toggleable__control sk-hidden--visually\" id=\"62d7cf84-ddcb-4f35-afc9-ed6c4c010eef\" type=\"checkbox\" ><label for=\"62d7cf84-ddcb-4f35-afc9-ed6c4c010eef\" class=\"sk-toggleable__label sk-toggleable__label-arrow\">OneHotEncoder</label><div class=\"sk-toggleable__content\"><pre>OneHotEncoder(handle_unknown=&#x27;ignore&#x27;, sparse=False)</pre></div></div></div></div></div></div></div>"
            ]
          },
          "metadata": {},
          "execution_count": 79
        }
      ]
    },
    {
      "cell_type": "code",
      "source": [
        "# Tuples for Column Transformer\n",
        "number_tuple = (numeric_pipeline, numeric_columns)\n",
        "category_tuple = (categorical_pipeline, categorical_columns)\n",
        "# ColumnTransformer\n",
        "preprocessor = make_column_transformer(number_tuple, category_tuple)\n",
        "preprocessor"
      ],
      "metadata": {
        "colab": {
          "base_uri": "https://localhost:8080/",
          "height": 152
        },
        "id": "4PDXwEog8EF5",
        "outputId": "f3df4cc0-f584-45cd-b086-61fa71841d9d"
      },
      "execution_count": 80,
      "outputs": [
        {
          "output_type": "execute_result",
          "data": {
            "text/plain": [
              "ColumnTransformer(transformers=[('pipeline-1',\n",
              "                                 Pipeline(steps=[('simpleimputer',\n",
              "                                                  SimpleImputer()),\n",
              "                                                 ('standardscaler',\n",
              "                                                  StandardScaler())]),\n",
              "                                 <sklearn.compose._column_transformer.make_column_selector object at 0x7efc15275550>),\n",
              "                                ('pipeline-2',\n",
              "                                 Pipeline(steps=[('simpleimputer',\n",
              "                                                  SimpleImputer(fill_value='Small',\n",
              "                                                                strategy='constant')),\n",
              "                                                 ('onehotencoder',\n",
              "                                                  OneHotEncoder(handle_unknown='ignore',\n",
              "                                                                sparse=False))]),\n",
              "                                 <sklearn.compose._column_transformer.make_column_selector object at 0x7efc152753d0>)])"
            ],
            "text/html": [
              "<style>#sk-6bba6fd2-c3be-427f-8096-6b4914fc7dac {color: black;background-color: white;}#sk-6bba6fd2-c3be-427f-8096-6b4914fc7dac pre{padding: 0;}#sk-6bba6fd2-c3be-427f-8096-6b4914fc7dac div.sk-toggleable {background-color: white;}#sk-6bba6fd2-c3be-427f-8096-6b4914fc7dac label.sk-toggleable__label {cursor: pointer;display: block;width: 100%;margin-bottom: 0;padding: 0.3em;box-sizing: border-box;text-align: center;}#sk-6bba6fd2-c3be-427f-8096-6b4914fc7dac label.sk-toggleable__label-arrow:before {content: \"▸\";float: left;margin-right: 0.25em;color: #696969;}#sk-6bba6fd2-c3be-427f-8096-6b4914fc7dac label.sk-toggleable__label-arrow:hover:before {color: black;}#sk-6bba6fd2-c3be-427f-8096-6b4914fc7dac div.sk-estimator:hover label.sk-toggleable__label-arrow:before {color: black;}#sk-6bba6fd2-c3be-427f-8096-6b4914fc7dac div.sk-toggleable__content {max-height: 0;max-width: 0;overflow: hidden;text-align: left;background-color: #f0f8ff;}#sk-6bba6fd2-c3be-427f-8096-6b4914fc7dac div.sk-toggleable__content pre {margin: 0.2em;color: black;border-radius: 0.25em;background-color: #f0f8ff;}#sk-6bba6fd2-c3be-427f-8096-6b4914fc7dac input.sk-toggleable__control:checked~div.sk-toggleable__content {max-height: 200px;max-width: 100%;overflow: auto;}#sk-6bba6fd2-c3be-427f-8096-6b4914fc7dac input.sk-toggleable__control:checked~label.sk-toggleable__label-arrow:before {content: \"▾\";}#sk-6bba6fd2-c3be-427f-8096-6b4914fc7dac div.sk-estimator input.sk-toggleable__control:checked~label.sk-toggleable__label {background-color: #d4ebff;}#sk-6bba6fd2-c3be-427f-8096-6b4914fc7dac div.sk-label input.sk-toggleable__control:checked~label.sk-toggleable__label {background-color: #d4ebff;}#sk-6bba6fd2-c3be-427f-8096-6b4914fc7dac input.sk-hidden--visually {border: 0;clip: rect(1px 1px 1px 1px);clip: rect(1px, 1px, 1px, 1px);height: 1px;margin: -1px;overflow: hidden;padding: 0;position: absolute;width: 1px;}#sk-6bba6fd2-c3be-427f-8096-6b4914fc7dac div.sk-estimator {font-family: monospace;background-color: #f0f8ff;border: 1px dotted black;border-radius: 0.25em;box-sizing: border-box;margin-bottom: 0.5em;}#sk-6bba6fd2-c3be-427f-8096-6b4914fc7dac div.sk-estimator:hover {background-color: #d4ebff;}#sk-6bba6fd2-c3be-427f-8096-6b4914fc7dac div.sk-parallel-item::after {content: \"\";width: 100%;border-bottom: 1px solid gray;flex-grow: 1;}#sk-6bba6fd2-c3be-427f-8096-6b4914fc7dac div.sk-label:hover label.sk-toggleable__label {background-color: #d4ebff;}#sk-6bba6fd2-c3be-427f-8096-6b4914fc7dac div.sk-serial::before {content: \"\";position: absolute;border-left: 1px solid gray;box-sizing: border-box;top: 2em;bottom: 0;left: 50%;}#sk-6bba6fd2-c3be-427f-8096-6b4914fc7dac div.sk-serial {display: flex;flex-direction: column;align-items: center;background-color: white;padding-right: 0.2em;padding-left: 0.2em;}#sk-6bba6fd2-c3be-427f-8096-6b4914fc7dac div.sk-item {z-index: 1;}#sk-6bba6fd2-c3be-427f-8096-6b4914fc7dac div.sk-parallel {display: flex;align-items: stretch;justify-content: center;background-color: white;}#sk-6bba6fd2-c3be-427f-8096-6b4914fc7dac div.sk-parallel::before {content: \"\";position: absolute;border-left: 1px solid gray;box-sizing: border-box;top: 2em;bottom: 0;left: 50%;}#sk-6bba6fd2-c3be-427f-8096-6b4914fc7dac div.sk-parallel-item {display: flex;flex-direction: column;position: relative;background-color: white;}#sk-6bba6fd2-c3be-427f-8096-6b4914fc7dac div.sk-parallel-item:first-child::after {align-self: flex-end;width: 50%;}#sk-6bba6fd2-c3be-427f-8096-6b4914fc7dac div.sk-parallel-item:last-child::after {align-self: flex-start;width: 50%;}#sk-6bba6fd2-c3be-427f-8096-6b4914fc7dac div.sk-parallel-item:only-child::after {width: 0;}#sk-6bba6fd2-c3be-427f-8096-6b4914fc7dac div.sk-dashed-wrapped {border: 1px dashed gray;margin: 0 0.4em 0.5em 0.4em;box-sizing: border-box;padding-bottom: 0.4em;background-color: white;position: relative;}#sk-6bba6fd2-c3be-427f-8096-6b4914fc7dac div.sk-label label {font-family: monospace;font-weight: bold;background-color: white;display: inline-block;line-height: 1.2em;}#sk-6bba6fd2-c3be-427f-8096-6b4914fc7dac div.sk-label-container {position: relative;z-index: 2;text-align: center;}#sk-6bba6fd2-c3be-427f-8096-6b4914fc7dac div.sk-container {/* jupyter's `normalize.less` sets `[hidden] { display: none; }` but bootstrap.min.css set `[hidden] { display: none !important; }` so we also need the `!important` here to be able to override the default hidden behavior on the sphinx rendered scikit-learn.org. See: https://github.com/scikit-learn/scikit-learn/issues/21755 */display: inline-block !important;position: relative;}#sk-6bba6fd2-c3be-427f-8096-6b4914fc7dac div.sk-text-repr-fallback {display: none;}</style><div id=\"sk-6bba6fd2-c3be-427f-8096-6b4914fc7dac\" class=\"sk-top-container\"><div class=\"sk-text-repr-fallback\"><pre>ColumnTransformer(transformers=[(&#x27;pipeline-1&#x27;,\n",
              "                                 Pipeline(steps=[(&#x27;simpleimputer&#x27;,\n",
              "                                                  SimpleImputer()),\n",
              "                                                 (&#x27;standardscaler&#x27;,\n",
              "                                                  StandardScaler())]),\n",
              "                                 &lt;sklearn.compose._column_transformer.make_column_selector object at 0x7efc15275550&gt;),\n",
              "                                (&#x27;pipeline-2&#x27;,\n",
              "                                 Pipeline(steps=[(&#x27;simpleimputer&#x27;,\n",
              "                                                  SimpleImputer(fill_value=&#x27;Small&#x27;,\n",
              "                                                                strategy=&#x27;constant&#x27;)),\n",
              "                                                 (&#x27;onehotencoder&#x27;,\n",
              "                                                  OneHotEncoder(handle_unknown=&#x27;ignore&#x27;,\n",
              "                                                                sparse=False))]),\n",
              "                                 &lt;sklearn.compose._column_transformer.make_column_selector object at 0x7efc152753d0&gt;)])</pre><b>Please rerun this cell to show the HTML repr or trust the notebook.</b></div><div class=\"sk-container\" hidden><div class=\"sk-item sk-dashed-wrapped\"><div class=\"sk-label-container\"><div class=\"sk-label sk-toggleable\"><input class=\"sk-toggleable__control sk-hidden--visually\" id=\"1cab7c85-9089-47c3-8d68-dd95659b0641\" type=\"checkbox\" ><label for=\"1cab7c85-9089-47c3-8d68-dd95659b0641\" class=\"sk-toggleable__label sk-toggleable__label-arrow\">ColumnTransformer</label><div class=\"sk-toggleable__content\"><pre>ColumnTransformer(transformers=[(&#x27;pipeline-1&#x27;,\n",
              "                                 Pipeline(steps=[(&#x27;simpleimputer&#x27;,\n",
              "                                                  SimpleImputer()),\n",
              "                                                 (&#x27;standardscaler&#x27;,\n",
              "                                                  StandardScaler())]),\n",
              "                                 &lt;sklearn.compose._column_transformer.make_column_selector object at 0x7efc15275550&gt;),\n",
              "                                (&#x27;pipeline-2&#x27;,\n",
              "                                 Pipeline(steps=[(&#x27;simpleimputer&#x27;,\n",
              "                                                  SimpleImputer(fill_value=&#x27;Small&#x27;,\n",
              "                                                                strategy=&#x27;constant&#x27;)),\n",
              "                                                 (&#x27;onehotencoder&#x27;,\n",
              "                                                  OneHotEncoder(handle_unknown=&#x27;ignore&#x27;,\n",
              "                                                                sparse=False))]),\n",
              "                                 &lt;sklearn.compose._column_transformer.make_column_selector object at 0x7efc152753d0&gt;)])</pre></div></div></div><div class=\"sk-parallel\"><div class=\"sk-parallel-item\"><div class=\"sk-item\"><div class=\"sk-label-container\"><div class=\"sk-label sk-toggleable\"><input class=\"sk-toggleable__control sk-hidden--visually\" id=\"c0b2905a-7f53-46f0-84fb-c2ee9415a25e\" type=\"checkbox\" ><label for=\"c0b2905a-7f53-46f0-84fb-c2ee9415a25e\" class=\"sk-toggleable__label sk-toggleable__label-arrow\">pipeline-1</label><div class=\"sk-toggleable__content\"><pre>&lt;sklearn.compose._column_transformer.make_column_selector object at 0x7efc15275550&gt;</pre></div></div></div><div class=\"sk-serial\"><div class=\"sk-item\"><div class=\"sk-serial\"><div class=\"sk-item\"><div class=\"sk-estimator sk-toggleable\"><input class=\"sk-toggleable__control sk-hidden--visually\" id=\"323c9098-c9e6-4285-bb64-70af073775e1\" type=\"checkbox\" ><label for=\"323c9098-c9e6-4285-bb64-70af073775e1\" class=\"sk-toggleable__label sk-toggleable__label-arrow\">SimpleImputer</label><div class=\"sk-toggleable__content\"><pre>SimpleImputer()</pre></div></div></div><div class=\"sk-item\"><div class=\"sk-estimator sk-toggleable\"><input class=\"sk-toggleable__control sk-hidden--visually\" id=\"b498093e-ce59-4cca-860f-1e504f3ebf3f\" type=\"checkbox\" ><label for=\"b498093e-ce59-4cca-860f-1e504f3ebf3f\" class=\"sk-toggleable__label sk-toggleable__label-arrow\">StandardScaler</label><div class=\"sk-toggleable__content\"><pre>StandardScaler()</pre></div></div></div></div></div></div></div></div><div class=\"sk-parallel-item\"><div class=\"sk-item\"><div class=\"sk-label-container\"><div class=\"sk-label sk-toggleable\"><input class=\"sk-toggleable__control sk-hidden--visually\" id=\"21f0733a-12de-4818-9309-47fa7fa18d6f\" type=\"checkbox\" ><label for=\"21f0733a-12de-4818-9309-47fa7fa18d6f\" class=\"sk-toggleable__label sk-toggleable__label-arrow\">pipeline-2</label><div class=\"sk-toggleable__content\"><pre>&lt;sklearn.compose._column_transformer.make_column_selector object at 0x7efc152753d0&gt;</pre></div></div></div><div class=\"sk-serial\"><div class=\"sk-item\"><div class=\"sk-serial\"><div class=\"sk-item\"><div class=\"sk-estimator sk-toggleable\"><input class=\"sk-toggleable__control sk-hidden--visually\" id=\"d34fcc15-d438-403d-a01c-daa513f5b113\" type=\"checkbox\" ><label for=\"d34fcc15-d438-403d-a01c-daa513f5b113\" class=\"sk-toggleable__label sk-toggleable__label-arrow\">SimpleImputer</label><div class=\"sk-toggleable__content\"><pre>SimpleImputer(fill_value=&#x27;Small&#x27;, strategy=&#x27;constant&#x27;)</pre></div></div></div><div class=\"sk-item\"><div class=\"sk-estimator sk-toggleable\"><input class=\"sk-toggleable__control sk-hidden--visually\" id=\"8e8ca0ed-f554-4678-9aa0-db27790214ad\" type=\"checkbox\" ><label for=\"8e8ca0ed-f554-4678-9aa0-db27790214ad\" class=\"sk-toggleable__label sk-toggleable__label-arrow\">OneHotEncoder</label><div class=\"sk-toggleable__content\"><pre>OneHotEncoder(handle_unknown=&#x27;ignore&#x27;, sparse=False)</pre></div></div></div></div></div></div></div></div></div></div></div></div>"
            ]
          },
          "metadata": {},
          "execution_count": 80
        }
      ]
    },
    {
      "cell_type": "code",
      "source": [
        "#fit train data to column transformer and then transform data\n",
        "\n",
        "preprocessor.fit(X_train)\n",
        "\n",
        "X_train_processed = preprocessor.transform(X_train)\n",
        "X_test_processed = preprocessor.transform(X_test)"
      ],
      "metadata": {
        "id": "BcnVE6WQ8gCy"
      },
      "execution_count": 81,
      "outputs": []
    },
    {
      "cell_type": "code",
      "source": [
        "#resulting numpy array\n",
        "print(np.isnan(X_train_processed).sum().sum(), 'missing values in training data')\n",
        "print(np.isnan(X_test_processed).sum().sum(), 'missing values in testing data')\n",
        "print('\\n')\n",
        "print('All data in X_train_processed are', X_train_processed.dtype)\n",
        "print('All data in X_test_processed are', X_test_processed.dtype)\n",
        "print('\\n')\n",
        "print('shape of data is', X_train_processed.shape)\n",
        "print('\\n')\n",
        "X_train_processed"
      ],
      "metadata": {
        "colab": {
          "base_uri": "https://localhost:8080/"
        },
        "id": "2rCRGzOr3QWZ",
        "outputId": "5caf05ce-e987-48bc-83b0-3c2b6c053880"
      },
      "execution_count": 82,
      "outputs": [
        {
          "output_type": "stream",
          "name": "stdout",
          "text": [
            "0 missing values in training data\n",
            "0 missing values in testing data\n",
            "\n",
            "\n",
            "All data in X_train_processed are float64\n",
            "All data in X_test_processed are float64\n",
            "\n",
            "\n",
            "shape of data is (6392, 31)\n",
            "\n",
            "\n"
          ]
        },
        {
          "output_type": "execute_result",
          "data": {
            "text/plain": [
              "array([[ 0.81724868, -0.7403206 , -0.71277507, ...,  0.        ,\n",
              "         1.        ,  0.        ],\n",
              "       [ 0.5563395 ,  1.35076614, -1.29105225, ...,  0.        ,\n",
              "         1.        ,  0.        ],\n",
              "       [-0.13151196,  1.35076614,  1.81331864, ...,  1.        ,\n",
              "         0.        ,  0.        ],\n",
              "       ...,\n",
              "       [ 1.11373638, -0.7403206 , -0.92052713, ...,  1.        ,\n",
              "         0.        ,  0.        ],\n",
              "       [ 1.76600931, -0.7403206 , -0.2277552 , ...,  1.        ,\n",
              "         0.        ,  0.        ],\n",
              "       [ 0.81724868, -0.7403206 , -0.95867683, ...,  1.        ,\n",
              "         0.        ,  0.        ]])"
            ]
          },
          "metadata": {},
          "execution_count": 82
        }
      ]
    }
  ]
}