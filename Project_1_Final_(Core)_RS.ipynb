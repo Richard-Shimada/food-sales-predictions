{
  "nbformat": 4,
  "nbformat_minor": 0,
  "metadata": {
    "colab": {
      "provenance": [],
      "collapsed_sections": [],
      "mount_file_id": "1N8R8hEFV46DylRRZO6izgszxDckHf6ex",
      "authorship_tag": "ABX9TyOX8e3WLC08TZkgBR/8s7pq",
      "include_colab_link": true
    },
    "kernelspec": {
      "name": "python3",
      "display_name": "Python 3"
    },
    "language_info": {
      "name": "python"
    }
  },
  "cells": [
    {
      "cell_type": "markdown",
      "metadata": {
        "id": "view-in-github",
        "colab_type": "text"
      },
      "source": [
        "<a href=\"https://colab.research.google.com/github/Richard-Shimada/food-sales-predictions/blob/main/Project_1_Final_(Core)_RS.ipynb\" target=\"_parent\"><img src=\"https://colab.research.google.com/assets/colab-badge.svg\" alt=\"Open In Colab\"/></a>"
      ]
    },
    {
      "cell_type": "code",
      "execution_count": 46,
      "metadata": {
        "colab": {
          "base_uri": "https://localhost:8080/",
          "height": 206
        },
        "id": "uTVjTlLrvPNI",
        "outputId": "93121272-90d2-4cd1-e5d3-38100dbebc5d"
      },
      "outputs": [
        {
          "output_type": "execute_result",
          "data": {
            "text/plain": [
              "  Item_Identifier  Item_Weight Item_Fat_Content  Item_Visibility  \\\n",
              "0           FDA15         9.30          Low Fat         0.016047   \n",
              "1           DRC01         5.92          Regular         0.019278   \n",
              "2           FDN15        17.50          Low Fat         0.016760   \n",
              "3           FDX07        19.20          Regular         0.000000   \n",
              "4           NCD19         8.93          Low Fat         0.000000   \n",
              "\n",
              "               Item_Type  Item_MRP Outlet_Identifier  \\\n",
              "0                  Dairy  249.8092            OUT049   \n",
              "1            Soft Drinks   48.2692            OUT018   \n",
              "2                   Meat  141.6180            OUT049   \n",
              "3  Fruits and Vegetables  182.0950            OUT010   \n",
              "4              Household   53.8614            OUT013   \n",
              "\n",
              "   Outlet_Establishment_Year Outlet_Size Outlet_Location_Type  \\\n",
              "0                       1999      Medium               Tier 1   \n",
              "1                       2009      Medium               Tier 3   \n",
              "2                       1999      Medium               Tier 1   \n",
              "3                       1998         NaN               Tier 3   \n",
              "4                       1987        High               Tier 3   \n",
              "\n",
              "         Outlet_Type  Item_Outlet_Sales  \n",
              "0  Supermarket Type1          3735.1380  \n",
              "1  Supermarket Type2           443.4228  \n",
              "2  Supermarket Type1          2097.2700  \n",
              "3      Grocery Store           732.3800  \n",
              "4  Supermarket Type1           994.7052  "
            ],
            "text/html": [
              "\n",
              "  <div id=\"df-44ba48e3-47a9-459c-8cc0-1a97719bde8e\">\n",
              "    <div class=\"colab-df-container\">\n",
              "      <div>\n",
              "<style scoped>\n",
              "    .dataframe tbody tr th:only-of-type {\n",
              "        vertical-align: middle;\n",
              "    }\n",
              "\n",
              "    .dataframe tbody tr th {\n",
              "        vertical-align: top;\n",
              "    }\n",
              "\n",
              "    .dataframe thead th {\n",
              "        text-align: right;\n",
              "    }\n",
              "</style>\n",
              "<table border=\"1\" class=\"dataframe\">\n",
              "  <thead>\n",
              "    <tr style=\"text-align: right;\">\n",
              "      <th></th>\n",
              "      <th>Item_Identifier</th>\n",
              "      <th>Item_Weight</th>\n",
              "      <th>Item_Fat_Content</th>\n",
              "      <th>Item_Visibility</th>\n",
              "      <th>Item_Type</th>\n",
              "      <th>Item_MRP</th>\n",
              "      <th>Outlet_Identifier</th>\n",
              "      <th>Outlet_Establishment_Year</th>\n",
              "      <th>Outlet_Size</th>\n",
              "      <th>Outlet_Location_Type</th>\n",
              "      <th>Outlet_Type</th>\n",
              "      <th>Item_Outlet_Sales</th>\n",
              "    </tr>\n",
              "  </thead>\n",
              "  <tbody>\n",
              "    <tr>\n",
              "      <th>0</th>\n",
              "      <td>FDA15</td>\n",
              "      <td>9.30</td>\n",
              "      <td>Low Fat</td>\n",
              "      <td>0.016047</td>\n",
              "      <td>Dairy</td>\n",
              "      <td>249.8092</td>\n",
              "      <td>OUT049</td>\n",
              "      <td>1999</td>\n",
              "      <td>Medium</td>\n",
              "      <td>Tier 1</td>\n",
              "      <td>Supermarket Type1</td>\n",
              "      <td>3735.1380</td>\n",
              "    </tr>\n",
              "    <tr>\n",
              "      <th>1</th>\n",
              "      <td>DRC01</td>\n",
              "      <td>5.92</td>\n",
              "      <td>Regular</td>\n",
              "      <td>0.019278</td>\n",
              "      <td>Soft Drinks</td>\n",
              "      <td>48.2692</td>\n",
              "      <td>OUT018</td>\n",
              "      <td>2009</td>\n",
              "      <td>Medium</td>\n",
              "      <td>Tier 3</td>\n",
              "      <td>Supermarket Type2</td>\n",
              "      <td>443.4228</td>\n",
              "    </tr>\n",
              "    <tr>\n",
              "      <th>2</th>\n",
              "      <td>FDN15</td>\n",
              "      <td>17.50</td>\n",
              "      <td>Low Fat</td>\n",
              "      <td>0.016760</td>\n",
              "      <td>Meat</td>\n",
              "      <td>141.6180</td>\n",
              "      <td>OUT049</td>\n",
              "      <td>1999</td>\n",
              "      <td>Medium</td>\n",
              "      <td>Tier 1</td>\n",
              "      <td>Supermarket Type1</td>\n",
              "      <td>2097.2700</td>\n",
              "    </tr>\n",
              "    <tr>\n",
              "      <th>3</th>\n",
              "      <td>FDX07</td>\n",
              "      <td>19.20</td>\n",
              "      <td>Regular</td>\n",
              "      <td>0.000000</td>\n",
              "      <td>Fruits and Vegetables</td>\n",
              "      <td>182.0950</td>\n",
              "      <td>OUT010</td>\n",
              "      <td>1998</td>\n",
              "      <td>NaN</td>\n",
              "      <td>Tier 3</td>\n",
              "      <td>Grocery Store</td>\n",
              "      <td>732.3800</td>\n",
              "    </tr>\n",
              "    <tr>\n",
              "      <th>4</th>\n",
              "      <td>NCD19</td>\n",
              "      <td>8.93</td>\n",
              "      <td>Low Fat</td>\n",
              "      <td>0.000000</td>\n",
              "      <td>Household</td>\n",
              "      <td>53.8614</td>\n",
              "      <td>OUT013</td>\n",
              "      <td>1987</td>\n",
              "      <td>High</td>\n",
              "      <td>Tier 3</td>\n",
              "      <td>Supermarket Type1</td>\n",
              "      <td>994.7052</td>\n",
              "    </tr>\n",
              "  </tbody>\n",
              "</table>\n",
              "</div>\n",
              "      <button class=\"colab-df-convert\" onclick=\"convertToInteractive('df-44ba48e3-47a9-459c-8cc0-1a97719bde8e')\"\n",
              "              title=\"Convert this dataframe to an interactive table.\"\n",
              "              style=\"display:none;\">\n",
              "        \n",
              "  <svg xmlns=\"http://www.w3.org/2000/svg\" height=\"24px\"viewBox=\"0 0 24 24\"\n",
              "       width=\"24px\">\n",
              "    <path d=\"M0 0h24v24H0V0z\" fill=\"none\"/>\n",
              "    <path d=\"M18.56 5.44l.94 2.06.94-2.06 2.06-.94-2.06-.94-.94-2.06-.94 2.06-2.06.94zm-11 1L8.5 8.5l.94-2.06 2.06-.94-2.06-.94L8.5 2.5l-.94 2.06-2.06.94zm10 10l.94 2.06.94-2.06 2.06-.94-2.06-.94-.94-2.06-.94 2.06-2.06.94z\"/><path d=\"M17.41 7.96l-1.37-1.37c-.4-.4-.92-.59-1.43-.59-.52 0-1.04.2-1.43.59L10.3 9.45l-7.72 7.72c-.78.78-.78 2.05 0 2.83L4 21.41c.39.39.9.59 1.41.59.51 0 1.02-.2 1.41-.59l7.78-7.78 2.81-2.81c.8-.78.8-2.07 0-2.86zM5.41 20L4 18.59l7.72-7.72 1.47 1.35L5.41 20z\"/>\n",
              "  </svg>\n",
              "      </button>\n",
              "      \n",
              "  <style>\n",
              "    .colab-df-container {\n",
              "      display:flex;\n",
              "      flex-wrap:wrap;\n",
              "      gap: 12px;\n",
              "    }\n",
              "\n",
              "    .colab-df-convert {\n",
              "      background-color: #E8F0FE;\n",
              "      border: none;\n",
              "      border-radius: 50%;\n",
              "      cursor: pointer;\n",
              "      display: none;\n",
              "      fill: #1967D2;\n",
              "      height: 32px;\n",
              "      padding: 0 0 0 0;\n",
              "      width: 32px;\n",
              "    }\n",
              "\n",
              "    .colab-df-convert:hover {\n",
              "      background-color: #E2EBFA;\n",
              "      box-shadow: 0px 1px 2px rgba(60, 64, 67, 0.3), 0px 1px 3px 1px rgba(60, 64, 67, 0.15);\n",
              "      fill: #174EA6;\n",
              "    }\n",
              "\n",
              "    [theme=dark] .colab-df-convert {\n",
              "      background-color: #3B4455;\n",
              "      fill: #D2E3FC;\n",
              "    }\n",
              "\n",
              "    [theme=dark] .colab-df-convert:hover {\n",
              "      background-color: #434B5C;\n",
              "      box-shadow: 0px 1px 3px 1px rgba(0, 0, 0, 0.15);\n",
              "      filter: drop-shadow(0px 1px 2px rgba(0, 0, 0, 0.3));\n",
              "      fill: #FFFFFF;\n",
              "    }\n",
              "  </style>\n",
              "\n",
              "      <script>\n",
              "        const buttonEl =\n",
              "          document.querySelector('#df-44ba48e3-47a9-459c-8cc0-1a97719bde8e button.colab-df-convert');\n",
              "        buttonEl.style.display =\n",
              "          google.colab.kernel.accessAllowed ? 'block' : 'none';\n",
              "\n",
              "        async function convertToInteractive(key) {\n",
              "          const element = document.querySelector('#df-44ba48e3-47a9-459c-8cc0-1a97719bde8e');\n",
              "          const dataTable =\n",
              "            await google.colab.kernel.invokeFunction('convertToInteractive',\n",
              "                                                     [key], {});\n",
              "          if (!dataTable) return;\n",
              "\n",
              "          const docLinkHtml = 'Like what you see? Visit the ' +\n",
              "            '<a target=\"_blank\" href=https://colab.research.google.com/notebooks/data_table.ipynb>data table notebook</a>'\n",
              "            + ' to learn more about interactive tables.';\n",
              "          element.innerHTML = '';\n",
              "          dataTable['output_type'] = 'display_data';\n",
              "          await google.colab.output.renderOutput(dataTable, element);\n",
              "          const docLink = document.createElement('div');\n",
              "          docLink.innerHTML = docLinkHtml;\n",
              "          element.appendChild(docLink);\n",
              "        }\n",
              "      </script>\n",
              "    </div>\n",
              "  </div>\n",
              "  "
            ]
          },
          "metadata": {},
          "execution_count": 46
        }
      ],
      "source": [
        "#import libraries and load data\n",
        "import pandas as pd\n",
        "import numpy as np\n",
        "import matplotlib.pyplot as plt\n",
        "from sklearn.preprocessing import StandardScaler, OneHotEncoder\n",
        "from sklearn.impute import SimpleImputer\n",
        "from sklearn.compose import make_column_transformer, make_column_selector\n",
        "from sklearn.pipeline import make_pipeline\n",
        "from sklearn.model_selection import train_test_split\n",
        "from sklearn.linear_model import LinearRegression\n",
        "from sklearn.tree import DecisionTreeRegressor\n",
        "from sklearn.metrics import mean_absolute_error, mean_squared_error, r2_score\n",
        "from sklearn import set_config\n",
        "set_config(display='diagram')\n",
        "\n",
        "df = pd.read_csv('/content/drive/MyDrive/Coding Dojo 2022/05 Week 5: Intro to Machine Learning and Pre-Processing/sales_predictions_original.csv')\n",
        "sales_df = df.copy()\n",
        "sales_df.head()"
      ]
    },
    {
      "cell_type": "code",
      "source": [
        "# Create a function to take the true and predicted labels and print MAE, MSE, RMSE, and R2 metrics\n",
        "def evaluate_regression(y_true, y_pred):\n",
        "  \"\"\"Takes true target and predicted target and prints MAE, MSE, RMSE and R2\"\"\"\n",
        "  \n",
        "  mae = mean_absolute_error(y_true, y_pred)\n",
        "  mse = mean_squared_error(y_true, y_pred)\n",
        "  rmse = np.sqrt(mse)\n",
        "  r2 = r2_score(y_true, y_pred)\n",
        "\n",
        "  print(f'scores: \\nMAE: {mae:,.2f} \\nMSE: {mse:,.2f} \\nRMSE: {rmse:,.2f} \\nR2: {r2:.2f}')"
      ],
      "metadata": {
        "id": "50hSPVxjf2BP"
      },
      "execution_count": 47,
      "outputs": []
    },
    {
      "cell_type": "code",
      "source": [
        "#no duplicates\n",
        "sales_df.duplicated().sum()\n",
        "\n"
      ],
      "metadata": {
        "colab": {
          "base_uri": "https://localhost:8080/"
        },
        "id": "McBzyIV1viD6",
        "outputId": "cebdfe99-3599-4635-8d06-1ce745f57acd"
      },
      "execution_count": 48,
      "outputs": [
        {
          "output_type": "execute_result",
          "data": {
            "text/plain": [
              "0"
            ]
          },
          "metadata": {},
          "execution_count": 48
        }
      ]
    },
    {
      "cell_type": "code",
      "source": [
        "#change all values to Low Fat or Regular. Will ordinal encode assuming that the average consumer will be health conscious where possible, can also see the one hot encode point of view one is not inherently better than the other in terms of predicting sales\n",
        "sales_df['Item_Fat_Content'].value_counts()\n",
        "sales_df['Item_Fat_Content'].replace({'Low Fat':0,'LF':0,'low fat':0,'Regular':1,'reg':1},inplace=True)\n",
        "sales_df['Item_Fat_Content'].value_counts()"
      ],
      "metadata": {
        "colab": {
          "base_uri": "https://localhost:8080/"
        },
        "id": "BCk9eZkkxTEI",
        "outputId": "b9a19d8b-dbb9-468f-f5c7-f550fdb1e112"
      },
      "execution_count": 49,
      "outputs": [
        {
          "output_type": "execute_result",
          "data": {
            "text/plain": [
              "0    5517\n",
              "1    3006\n",
              "Name: Item_Fat_Content, dtype: int64"
            ]
          },
          "metadata": {},
          "execution_count": 49
        }
      ]
    },
    {
      "cell_type": "code",
      "source": [
        "sales_df['Outlet_Identifier'].nunique()\n",
        "#sales_df.shape"
      ],
      "metadata": {
        "colab": {
          "base_uri": "https://localhost:8080/"
        },
        "id": "A6eeNQ-X03Fw",
        "outputId": "805ec7d3-0ba6-4a7a-951a-568b3af72762"
      },
      "execution_count": 50,
      "outputs": [
        {
          "output_type": "execute_result",
          "data": {
            "text/plain": [
              "10"
            ]
          },
          "metadata": {},
          "execution_count": 50
        }
      ]
    },
    {
      "cell_type": "code",
      "source": [
        "# Identifying the features (X) and target (y): \"Item_Outlet_Sales\" column is the target; dropped Item_Identifier and Outlet_Identifier from the features matrix as they are just IDs that wouldn't have any predicting power \n",
        "\n",
        "X = sales_df.drop(['Item_Identifier','Outlet_Identifier','Item_Outlet_Sales'],axis=1)\n",
        "y = sales_df['Item_Outlet_Sales']"
      ],
      "metadata": {
        "id": "yTEDiDrLwJe8"
      },
      "execution_count": 51,
      "outputs": []
    },
    {
      "cell_type": "code",
      "source": [
        "# Perform a train test split \n",
        "X_train,X_test,y_train,y_test = train_test_split(X,y,random_state=42)"
      ],
      "metadata": {
        "id": "zGIEg31-1h4n"
      },
      "execution_count": 52,
      "outputs": []
    },
    {
      "cell_type": "code",
      "source": [
        "# Create a preprocessing object to prepare the dataset for Machine Learning\n",
        "categorical_columns = make_column_selector(dtype_include='object')\n",
        "numeric_columns = make_column_selector(dtype_include='number')"
      ],
      "metadata": {
        "id": "_7WQ_o791jfJ"
      },
      "execution_count": 53,
      "outputs": []
    },
    {
      "cell_type": "code",
      "source": [
        "#Need to address null values in Item_weight and Outlet_Size\n",
        "X_train.isna().sum()"
      ],
      "metadata": {
        "colab": {
          "base_uri": "https://localhost:8080/"
        },
        "id": "IE9KaM043Yvu",
        "outputId": "f95eb5e2-e30a-4e44-d29a-061af9e27c36"
      },
      "execution_count": 54,
      "outputs": [
        {
          "output_type": "execute_result",
          "data": {
            "text/plain": [
              "Item_Weight                  1107\n",
              "Item_Fat_Content                0\n",
              "Item_Visibility                 0\n",
              "Item_Type                       0\n",
              "Item_MRP                        0\n",
              "Outlet_Establishment_Year       0\n",
              "Outlet_Size                  1812\n",
              "Outlet_Location_Type            0\n",
              "Outlet_Type                     0\n",
              "dtype: int64"
            ]
          },
          "metadata": {},
          "execution_count": 54
        }
      ]
    },
    {
      "cell_type": "code",
      "source": [
        "\n",
        "#X_train['Item_Weight'].nunique()\n",
        "#Since item weight is continuous and has many different values,  we will use the mean to impute values\n",
        "\n",
        "#For rows where Outlet_Size is not null,Outlet_Location_Type of Tier 2 only appears in Outlet_Size of Small, same for Outlet_Type = Grocery Store.\n",
        "#For all rows where Outlet_Size is null, values of either Tier 2 or Grocery are in each row! So we will impute the NaN to Small\n",
        "#X_train['Outlet_Size'].value_counts()\n",
        "#X_train.groupby(['Outlet_Size','Outlet_Location_Type','Outlet_Type'],dropna=False)['Item_MRP'].sum()\n",
        "\n"
      ],
      "metadata": {
        "id": "ldzlPhaR5HgL"
      },
      "execution_count": 55,
      "outputs": []
    },
    {
      "cell_type": "code",
      "source": [
        "#instantiate scalar and ohe\n",
        "#For imputing, using the ‘mean’ strategy for Item_Weight and the constant(Small) strategy for Outlet_Size\n",
        "constant_imputer = SimpleImputer(strategy='constant',fill_value='Small')\n",
        "mean_imputer = SimpleImputer(strategy='mean')\n",
        "# Scaler\n",
        "scaler = StandardScaler()\n",
        "# One-hot encoder\n",
        "ohe = OneHotEncoder(handle_unknown='ignore', sparse=False)"
      ],
      "metadata": {
        "id": "J2Xe06Ee3U1n"
      },
      "execution_count": 56,
      "outputs": []
    },
    {
      "cell_type": "code",
      "source": [
        "numeric_pipeline = make_pipeline(mean_imputer,scaler)\n",
        "numeric_pipeline"
      ],
      "metadata": {
        "colab": {
          "base_uri": "https://localhost:8080/",
          "height": 126
        },
        "id": "MZfp2Vpn7Uvt",
        "outputId": "3955f9f3-0910-41b5-b507-fa87b4cef7f8"
      },
      "execution_count": 57,
      "outputs": [
        {
          "output_type": "execute_result",
          "data": {
            "text/plain": [
              "Pipeline(steps=[('simpleimputer', SimpleImputer()),\n",
              "                ('standardscaler', StandardScaler())])"
            ],
            "text/html": [
              "<style>#sk-f52a715c-8139-4fd4-94e0-51ef431a6ea2 {color: black;background-color: white;}#sk-f52a715c-8139-4fd4-94e0-51ef431a6ea2 pre{padding: 0;}#sk-f52a715c-8139-4fd4-94e0-51ef431a6ea2 div.sk-toggleable {background-color: white;}#sk-f52a715c-8139-4fd4-94e0-51ef431a6ea2 label.sk-toggleable__label {cursor: pointer;display: block;width: 100%;margin-bottom: 0;padding: 0.3em;box-sizing: border-box;text-align: center;}#sk-f52a715c-8139-4fd4-94e0-51ef431a6ea2 label.sk-toggleable__label-arrow:before {content: \"▸\";float: left;margin-right: 0.25em;color: #696969;}#sk-f52a715c-8139-4fd4-94e0-51ef431a6ea2 label.sk-toggleable__label-arrow:hover:before {color: black;}#sk-f52a715c-8139-4fd4-94e0-51ef431a6ea2 div.sk-estimator:hover label.sk-toggleable__label-arrow:before {color: black;}#sk-f52a715c-8139-4fd4-94e0-51ef431a6ea2 div.sk-toggleable__content {max-height: 0;max-width: 0;overflow: hidden;text-align: left;background-color: #f0f8ff;}#sk-f52a715c-8139-4fd4-94e0-51ef431a6ea2 div.sk-toggleable__content pre {margin: 0.2em;color: black;border-radius: 0.25em;background-color: #f0f8ff;}#sk-f52a715c-8139-4fd4-94e0-51ef431a6ea2 input.sk-toggleable__control:checked~div.sk-toggleable__content {max-height: 200px;max-width: 100%;overflow: auto;}#sk-f52a715c-8139-4fd4-94e0-51ef431a6ea2 input.sk-toggleable__control:checked~label.sk-toggleable__label-arrow:before {content: \"▾\";}#sk-f52a715c-8139-4fd4-94e0-51ef431a6ea2 div.sk-estimator input.sk-toggleable__control:checked~label.sk-toggleable__label {background-color: #d4ebff;}#sk-f52a715c-8139-4fd4-94e0-51ef431a6ea2 div.sk-label input.sk-toggleable__control:checked~label.sk-toggleable__label {background-color: #d4ebff;}#sk-f52a715c-8139-4fd4-94e0-51ef431a6ea2 input.sk-hidden--visually {border: 0;clip: rect(1px 1px 1px 1px);clip: rect(1px, 1px, 1px, 1px);height: 1px;margin: -1px;overflow: hidden;padding: 0;position: absolute;width: 1px;}#sk-f52a715c-8139-4fd4-94e0-51ef431a6ea2 div.sk-estimator {font-family: monospace;background-color: #f0f8ff;border: 1px dotted black;border-radius: 0.25em;box-sizing: border-box;margin-bottom: 0.5em;}#sk-f52a715c-8139-4fd4-94e0-51ef431a6ea2 div.sk-estimator:hover {background-color: #d4ebff;}#sk-f52a715c-8139-4fd4-94e0-51ef431a6ea2 div.sk-parallel-item::after {content: \"\";width: 100%;border-bottom: 1px solid gray;flex-grow: 1;}#sk-f52a715c-8139-4fd4-94e0-51ef431a6ea2 div.sk-label:hover label.sk-toggleable__label {background-color: #d4ebff;}#sk-f52a715c-8139-4fd4-94e0-51ef431a6ea2 div.sk-serial::before {content: \"\";position: absolute;border-left: 1px solid gray;box-sizing: border-box;top: 2em;bottom: 0;left: 50%;}#sk-f52a715c-8139-4fd4-94e0-51ef431a6ea2 div.sk-serial {display: flex;flex-direction: column;align-items: center;background-color: white;padding-right: 0.2em;padding-left: 0.2em;}#sk-f52a715c-8139-4fd4-94e0-51ef431a6ea2 div.sk-item {z-index: 1;}#sk-f52a715c-8139-4fd4-94e0-51ef431a6ea2 div.sk-parallel {display: flex;align-items: stretch;justify-content: center;background-color: white;}#sk-f52a715c-8139-4fd4-94e0-51ef431a6ea2 div.sk-parallel::before {content: \"\";position: absolute;border-left: 1px solid gray;box-sizing: border-box;top: 2em;bottom: 0;left: 50%;}#sk-f52a715c-8139-4fd4-94e0-51ef431a6ea2 div.sk-parallel-item {display: flex;flex-direction: column;position: relative;background-color: white;}#sk-f52a715c-8139-4fd4-94e0-51ef431a6ea2 div.sk-parallel-item:first-child::after {align-self: flex-end;width: 50%;}#sk-f52a715c-8139-4fd4-94e0-51ef431a6ea2 div.sk-parallel-item:last-child::after {align-self: flex-start;width: 50%;}#sk-f52a715c-8139-4fd4-94e0-51ef431a6ea2 div.sk-parallel-item:only-child::after {width: 0;}#sk-f52a715c-8139-4fd4-94e0-51ef431a6ea2 div.sk-dashed-wrapped {border: 1px dashed gray;margin: 0 0.4em 0.5em 0.4em;box-sizing: border-box;padding-bottom: 0.4em;background-color: white;position: relative;}#sk-f52a715c-8139-4fd4-94e0-51ef431a6ea2 div.sk-label label {font-family: monospace;font-weight: bold;background-color: white;display: inline-block;line-height: 1.2em;}#sk-f52a715c-8139-4fd4-94e0-51ef431a6ea2 div.sk-label-container {position: relative;z-index: 2;text-align: center;}#sk-f52a715c-8139-4fd4-94e0-51ef431a6ea2 div.sk-container {/* jupyter's `normalize.less` sets `[hidden] { display: none; }` but bootstrap.min.css set `[hidden] { display: none !important; }` so we also need the `!important` here to be able to override the default hidden behavior on the sphinx rendered scikit-learn.org. See: https://github.com/scikit-learn/scikit-learn/issues/21755 */display: inline-block !important;position: relative;}#sk-f52a715c-8139-4fd4-94e0-51ef431a6ea2 div.sk-text-repr-fallback {display: none;}</style><div id=\"sk-f52a715c-8139-4fd4-94e0-51ef431a6ea2\" class=\"sk-top-container\"><div class=\"sk-text-repr-fallback\"><pre>Pipeline(steps=[(&#x27;simpleimputer&#x27;, SimpleImputer()),\n",
              "                (&#x27;standardscaler&#x27;, StandardScaler())])</pre><b>Please rerun this cell to show the HTML repr or trust the notebook.</b></div><div class=\"sk-container\" hidden><div class=\"sk-item sk-dashed-wrapped\"><div class=\"sk-label-container\"><div class=\"sk-label sk-toggleable\"><input class=\"sk-toggleable__control sk-hidden--visually\" id=\"1750fd8b-ebaf-4e63-9c8d-8522c840b56d\" type=\"checkbox\" ><label for=\"1750fd8b-ebaf-4e63-9c8d-8522c840b56d\" class=\"sk-toggleable__label sk-toggleable__label-arrow\">Pipeline</label><div class=\"sk-toggleable__content\"><pre>Pipeline(steps=[(&#x27;simpleimputer&#x27;, SimpleImputer()),\n",
              "                (&#x27;standardscaler&#x27;, StandardScaler())])</pre></div></div></div><div class=\"sk-serial\"><div class=\"sk-item\"><div class=\"sk-estimator sk-toggleable\"><input class=\"sk-toggleable__control sk-hidden--visually\" id=\"a148f2d8-8c8f-4e99-a7f6-5b1d73fe1e06\" type=\"checkbox\" ><label for=\"a148f2d8-8c8f-4e99-a7f6-5b1d73fe1e06\" class=\"sk-toggleable__label sk-toggleable__label-arrow\">SimpleImputer</label><div class=\"sk-toggleable__content\"><pre>SimpleImputer()</pre></div></div></div><div class=\"sk-item\"><div class=\"sk-estimator sk-toggleable\"><input class=\"sk-toggleable__control sk-hidden--visually\" id=\"6beb44b0-65da-4e31-ab6b-415b861a7292\" type=\"checkbox\" ><label for=\"6beb44b0-65da-4e31-ab6b-415b861a7292\" class=\"sk-toggleable__label sk-toggleable__label-arrow\">StandardScaler</label><div class=\"sk-toggleable__content\"><pre>StandardScaler()</pre></div></div></div></div></div></div></div>"
            ]
          },
          "metadata": {},
          "execution_count": 57
        }
      ]
    },
    {
      "cell_type": "code",
      "source": [
        "categorical_pipeline = make_pipeline(constant_imputer,ohe)\n",
        "categorical_pipeline"
      ],
      "metadata": {
        "colab": {
          "base_uri": "https://localhost:8080/",
          "height": 126
        },
        "id": "bT1NbJ0E7kc8",
        "outputId": "6d5ee2fc-05aa-4d1c-9468-c7cb01cdd721"
      },
      "execution_count": 58,
      "outputs": [
        {
          "output_type": "execute_result",
          "data": {
            "text/plain": [
              "Pipeline(steps=[('simpleimputer',\n",
              "                 SimpleImputer(fill_value='Small', strategy='constant')),\n",
              "                ('onehotencoder',\n",
              "                 OneHotEncoder(handle_unknown='ignore', sparse=False))])"
            ],
            "text/html": [
              "<style>#sk-a0587b17-b044-42e0-a5ef-86d13f8843b4 {color: black;background-color: white;}#sk-a0587b17-b044-42e0-a5ef-86d13f8843b4 pre{padding: 0;}#sk-a0587b17-b044-42e0-a5ef-86d13f8843b4 div.sk-toggleable {background-color: white;}#sk-a0587b17-b044-42e0-a5ef-86d13f8843b4 label.sk-toggleable__label {cursor: pointer;display: block;width: 100%;margin-bottom: 0;padding: 0.3em;box-sizing: border-box;text-align: center;}#sk-a0587b17-b044-42e0-a5ef-86d13f8843b4 label.sk-toggleable__label-arrow:before {content: \"▸\";float: left;margin-right: 0.25em;color: #696969;}#sk-a0587b17-b044-42e0-a5ef-86d13f8843b4 label.sk-toggleable__label-arrow:hover:before {color: black;}#sk-a0587b17-b044-42e0-a5ef-86d13f8843b4 div.sk-estimator:hover label.sk-toggleable__label-arrow:before {color: black;}#sk-a0587b17-b044-42e0-a5ef-86d13f8843b4 div.sk-toggleable__content {max-height: 0;max-width: 0;overflow: hidden;text-align: left;background-color: #f0f8ff;}#sk-a0587b17-b044-42e0-a5ef-86d13f8843b4 div.sk-toggleable__content pre {margin: 0.2em;color: black;border-radius: 0.25em;background-color: #f0f8ff;}#sk-a0587b17-b044-42e0-a5ef-86d13f8843b4 input.sk-toggleable__control:checked~div.sk-toggleable__content {max-height: 200px;max-width: 100%;overflow: auto;}#sk-a0587b17-b044-42e0-a5ef-86d13f8843b4 input.sk-toggleable__control:checked~label.sk-toggleable__label-arrow:before {content: \"▾\";}#sk-a0587b17-b044-42e0-a5ef-86d13f8843b4 div.sk-estimator input.sk-toggleable__control:checked~label.sk-toggleable__label {background-color: #d4ebff;}#sk-a0587b17-b044-42e0-a5ef-86d13f8843b4 div.sk-label input.sk-toggleable__control:checked~label.sk-toggleable__label {background-color: #d4ebff;}#sk-a0587b17-b044-42e0-a5ef-86d13f8843b4 input.sk-hidden--visually {border: 0;clip: rect(1px 1px 1px 1px);clip: rect(1px, 1px, 1px, 1px);height: 1px;margin: -1px;overflow: hidden;padding: 0;position: absolute;width: 1px;}#sk-a0587b17-b044-42e0-a5ef-86d13f8843b4 div.sk-estimator {font-family: monospace;background-color: #f0f8ff;border: 1px dotted black;border-radius: 0.25em;box-sizing: border-box;margin-bottom: 0.5em;}#sk-a0587b17-b044-42e0-a5ef-86d13f8843b4 div.sk-estimator:hover {background-color: #d4ebff;}#sk-a0587b17-b044-42e0-a5ef-86d13f8843b4 div.sk-parallel-item::after {content: \"\";width: 100%;border-bottom: 1px solid gray;flex-grow: 1;}#sk-a0587b17-b044-42e0-a5ef-86d13f8843b4 div.sk-label:hover label.sk-toggleable__label {background-color: #d4ebff;}#sk-a0587b17-b044-42e0-a5ef-86d13f8843b4 div.sk-serial::before {content: \"\";position: absolute;border-left: 1px solid gray;box-sizing: border-box;top: 2em;bottom: 0;left: 50%;}#sk-a0587b17-b044-42e0-a5ef-86d13f8843b4 div.sk-serial {display: flex;flex-direction: column;align-items: center;background-color: white;padding-right: 0.2em;padding-left: 0.2em;}#sk-a0587b17-b044-42e0-a5ef-86d13f8843b4 div.sk-item {z-index: 1;}#sk-a0587b17-b044-42e0-a5ef-86d13f8843b4 div.sk-parallel {display: flex;align-items: stretch;justify-content: center;background-color: white;}#sk-a0587b17-b044-42e0-a5ef-86d13f8843b4 div.sk-parallel::before {content: \"\";position: absolute;border-left: 1px solid gray;box-sizing: border-box;top: 2em;bottom: 0;left: 50%;}#sk-a0587b17-b044-42e0-a5ef-86d13f8843b4 div.sk-parallel-item {display: flex;flex-direction: column;position: relative;background-color: white;}#sk-a0587b17-b044-42e0-a5ef-86d13f8843b4 div.sk-parallel-item:first-child::after {align-self: flex-end;width: 50%;}#sk-a0587b17-b044-42e0-a5ef-86d13f8843b4 div.sk-parallel-item:last-child::after {align-self: flex-start;width: 50%;}#sk-a0587b17-b044-42e0-a5ef-86d13f8843b4 div.sk-parallel-item:only-child::after {width: 0;}#sk-a0587b17-b044-42e0-a5ef-86d13f8843b4 div.sk-dashed-wrapped {border: 1px dashed gray;margin: 0 0.4em 0.5em 0.4em;box-sizing: border-box;padding-bottom: 0.4em;background-color: white;position: relative;}#sk-a0587b17-b044-42e0-a5ef-86d13f8843b4 div.sk-label label {font-family: monospace;font-weight: bold;background-color: white;display: inline-block;line-height: 1.2em;}#sk-a0587b17-b044-42e0-a5ef-86d13f8843b4 div.sk-label-container {position: relative;z-index: 2;text-align: center;}#sk-a0587b17-b044-42e0-a5ef-86d13f8843b4 div.sk-container {/* jupyter's `normalize.less` sets `[hidden] { display: none; }` but bootstrap.min.css set `[hidden] { display: none !important; }` so we also need the `!important` here to be able to override the default hidden behavior on the sphinx rendered scikit-learn.org. See: https://github.com/scikit-learn/scikit-learn/issues/21755 */display: inline-block !important;position: relative;}#sk-a0587b17-b044-42e0-a5ef-86d13f8843b4 div.sk-text-repr-fallback {display: none;}</style><div id=\"sk-a0587b17-b044-42e0-a5ef-86d13f8843b4\" class=\"sk-top-container\"><div class=\"sk-text-repr-fallback\"><pre>Pipeline(steps=[(&#x27;simpleimputer&#x27;,\n",
              "                 SimpleImputer(fill_value=&#x27;Small&#x27;, strategy=&#x27;constant&#x27;)),\n",
              "                (&#x27;onehotencoder&#x27;,\n",
              "                 OneHotEncoder(handle_unknown=&#x27;ignore&#x27;, sparse=False))])</pre><b>Please rerun this cell to show the HTML repr or trust the notebook.</b></div><div class=\"sk-container\" hidden><div class=\"sk-item sk-dashed-wrapped\"><div class=\"sk-label-container\"><div class=\"sk-label sk-toggleable\"><input class=\"sk-toggleable__control sk-hidden--visually\" id=\"1185d5f9-1199-4ddc-8b48-dc26cc2c5bf4\" type=\"checkbox\" ><label for=\"1185d5f9-1199-4ddc-8b48-dc26cc2c5bf4\" class=\"sk-toggleable__label sk-toggleable__label-arrow\">Pipeline</label><div class=\"sk-toggleable__content\"><pre>Pipeline(steps=[(&#x27;simpleimputer&#x27;,\n",
              "                 SimpleImputer(fill_value=&#x27;Small&#x27;, strategy=&#x27;constant&#x27;)),\n",
              "                (&#x27;onehotencoder&#x27;,\n",
              "                 OneHotEncoder(handle_unknown=&#x27;ignore&#x27;, sparse=False))])</pre></div></div></div><div class=\"sk-serial\"><div class=\"sk-item\"><div class=\"sk-estimator sk-toggleable\"><input class=\"sk-toggleable__control sk-hidden--visually\" id=\"a64dc894-bb65-4f40-b68c-835fbc055f76\" type=\"checkbox\" ><label for=\"a64dc894-bb65-4f40-b68c-835fbc055f76\" class=\"sk-toggleable__label sk-toggleable__label-arrow\">SimpleImputer</label><div class=\"sk-toggleable__content\"><pre>SimpleImputer(fill_value=&#x27;Small&#x27;, strategy=&#x27;constant&#x27;)</pre></div></div></div><div class=\"sk-item\"><div class=\"sk-estimator sk-toggleable\"><input class=\"sk-toggleable__control sk-hidden--visually\" id=\"4c0ce758-fec4-4dd8-911a-39ea8cdf0beb\" type=\"checkbox\" ><label for=\"4c0ce758-fec4-4dd8-911a-39ea8cdf0beb\" class=\"sk-toggleable__label sk-toggleable__label-arrow\">OneHotEncoder</label><div class=\"sk-toggleable__content\"><pre>OneHotEncoder(handle_unknown=&#x27;ignore&#x27;, sparse=False)</pre></div></div></div></div></div></div></div>"
            ]
          },
          "metadata": {},
          "execution_count": 58
        }
      ]
    },
    {
      "cell_type": "code",
      "source": [
        "# Tuples for Column Transformer\n",
        "number_tuple = (numeric_pipeline, numeric_columns)\n",
        "category_tuple = (categorical_pipeline, categorical_columns)\n",
        "# ColumnTransformer\n",
        "preprocessor = make_column_transformer(number_tuple, category_tuple)\n",
        "preprocessor"
      ],
      "metadata": {
        "colab": {
          "base_uri": "https://localhost:8080/",
          "height": 152
        },
        "id": "4PDXwEog8EF5",
        "outputId": "e225ea6a-7756-4a3f-f767-84f186fe232c"
      },
      "execution_count": 59,
      "outputs": [
        {
          "output_type": "execute_result",
          "data": {
            "text/plain": [
              "ColumnTransformer(transformers=[('pipeline-1',\n",
              "                                 Pipeline(steps=[('simpleimputer',\n",
              "                                                  SimpleImputer()),\n",
              "                                                 ('standardscaler',\n",
              "                                                  StandardScaler())]),\n",
              "                                 <sklearn.compose._column_transformer.make_column_selector object at 0x7f10739f50d0>),\n",
              "                                ('pipeline-2',\n",
              "                                 Pipeline(steps=[('simpleimputer',\n",
              "                                                  SimpleImputer(fill_value='Small',\n",
              "                                                                strategy='constant')),\n",
              "                                                 ('onehotencoder',\n",
              "                                                  OneHotEncoder(handle_unknown='ignore',\n",
              "                                                                sparse=False))]),\n",
              "                                 <sklearn.compose._column_transformer.make_column_selector object at 0x7f10739f5c90>)])"
            ],
            "text/html": [
              "<style>#sk-c2ff34ce-0969-4bc9-af45-32a542e3949d {color: black;background-color: white;}#sk-c2ff34ce-0969-4bc9-af45-32a542e3949d pre{padding: 0;}#sk-c2ff34ce-0969-4bc9-af45-32a542e3949d div.sk-toggleable {background-color: white;}#sk-c2ff34ce-0969-4bc9-af45-32a542e3949d label.sk-toggleable__label {cursor: pointer;display: block;width: 100%;margin-bottom: 0;padding: 0.3em;box-sizing: border-box;text-align: center;}#sk-c2ff34ce-0969-4bc9-af45-32a542e3949d label.sk-toggleable__label-arrow:before {content: \"▸\";float: left;margin-right: 0.25em;color: #696969;}#sk-c2ff34ce-0969-4bc9-af45-32a542e3949d label.sk-toggleable__label-arrow:hover:before {color: black;}#sk-c2ff34ce-0969-4bc9-af45-32a542e3949d div.sk-estimator:hover label.sk-toggleable__label-arrow:before {color: black;}#sk-c2ff34ce-0969-4bc9-af45-32a542e3949d div.sk-toggleable__content {max-height: 0;max-width: 0;overflow: hidden;text-align: left;background-color: #f0f8ff;}#sk-c2ff34ce-0969-4bc9-af45-32a542e3949d div.sk-toggleable__content pre {margin: 0.2em;color: black;border-radius: 0.25em;background-color: #f0f8ff;}#sk-c2ff34ce-0969-4bc9-af45-32a542e3949d input.sk-toggleable__control:checked~div.sk-toggleable__content {max-height: 200px;max-width: 100%;overflow: auto;}#sk-c2ff34ce-0969-4bc9-af45-32a542e3949d input.sk-toggleable__control:checked~label.sk-toggleable__label-arrow:before {content: \"▾\";}#sk-c2ff34ce-0969-4bc9-af45-32a542e3949d div.sk-estimator input.sk-toggleable__control:checked~label.sk-toggleable__label {background-color: #d4ebff;}#sk-c2ff34ce-0969-4bc9-af45-32a542e3949d div.sk-label input.sk-toggleable__control:checked~label.sk-toggleable__label {background-color: #d4ebff;}#sk-c2ff34ce-0969-4bc9-af45-32a542e3949d input.sk-hidden--visually {border: 0;clip: rect(1px 1px 1px 1px);clip: rect(1px, 1px, 1px, 1px);height: 1px;margin: -1px;overflow: hidden;padding: 0;position: absolute;width: 1px;}#sk-c2ff34ce-0969-4bc9-af45-32a542e3949d div.sk-estimator {font-family: monospace;background-color: #f0f8ff;border: 1px dotted black;border-radius: 0.25em;box-sizing: border-box;margin-bottom: 0.5em;}#sk-c2ff34ce-0969-4bc9-af45-32a542e3949d div.sk-estimator:hover {background-color: #d4ebff;}#sk-c2ff34ce-0969-4bc9-af45-32a542e3949d div.sk-parallel-item::after {content: \"\";width: 100%;border-bottom: 1px solid gray;flex-grow: 1;}#sk-c2ff34ce-0969-4bc9-af45-32a542e3949d div.sk-label:hover label.sk-toggleable__label {background-color: #d4ebff;}#sk-c2ff34ce-0969-4bc9-af45-32a542e3949d div.sk-serial::before {content: \"\";position: absolute;border-left: 1px solid gray;box-sizing: border-box;top: 2em;bottom: 0;left: 50%;}#sk-c2ff34ce-0969-4bc9-af45-32a542e3949d div.sk-serial {display: flex;flex-direction: column;align-items: center;background-color: white;padding-right: 0.2em;padding-left: 0.2em;}#sk-c2ff34ce-0969-4bc9-af45-32a542e3949d div.sk-item {z-index: 1;}#sk-c2ff34ce-0969-4bc9-af45-32a542e3949d div.sk-parallel {display: flex;align-items: stretch;justify-content: center;background-color: white;}#sk-c2ff34ce-0969-4bc9-af45-32a542e3949d div.sk-parallel::before {content: \"\";position: absolute;border-left: 1px solid gray;box-sizing: border-box;top: 2em;bottom: 0;left: 50%;}#sk-c2ff34ce-0969-4bc9-af45-32a542e3949d div.sk-parallel-item {display: flex;flex-direction: column;position: relative;background-color: white;}#sk-c2ff34ce-0969-4bc9-af45-32a542e3949d div.sk-parallel-item:first-child::after {align-self: flex-end;width: 50%;}#sk-c2ff34ce-0969-4bc9-af45-32a542e3949d div.sk-parallel-item:last-child::after {align-self: flex-start;width: 50%;}#sk-c2ff34ce-0969-4bc9-af45-32a542e3949d div.sk-parallel-item:only-child::after {width: 0;}#sk-c2ff34ce-0969-4bc9-af45-32a542e3949d div.sk-dashed-wrapped {border: 1px dashed gray;margin: 0 0.4em 0.5em 0.4em;box-sizing: border-box;padding-bottom: 0.4em;background-color: white;position: relative;}#sk-c2ff34ce-0969-4bc9-af45-32a542e3949d div.sk-label label {font-family: monospace;font-weight: bold;background-color: white;display: inline-block;line-height: 1.2em;}#sk-c2ff34ce-0969-4bc9-af45-32a542e3949d div.sk-label-container {position: relative;z-index: 2;text-align: center;}#sk-c2ff34ce-0969-4bc9-af45-32a542e3949d div.sk-container {/* jupyter's `normalize.less` sets `[hidden] { display: none; }` but bootstrap.min.css set `[hidden] { display: none !important; }` so we also need the `!important` here to be able to override the default hidden behavior on the sphinx rendered scikit-learn.org. See: https://github.com/scikit-learn/scikit-learn/issues/21755 */display: inline-block !important;position: relative;}#sk-c2ff34ce-0969-4bc9-af45-32a542e3949d div.sk-text-repr-fallback {display: none;}</style><div id=\"sk-c2ff34ce-0969-4bc9-af45-32a542e3949d\" class=\"sk-top-container\"><div class=\"sk-text-repr-fallback\"><pre>ColumnTransformer(transformers=[(&#x27;pipeline-1&#x27;,\n",
              "                                 Pipeline(steps=[(&#x27;simpleimputer&#x27;,\n",
              "                                                  SimpleImputer()),\n",
              "                                                 (&#x27;standardscaler&#x27;,\n",
              "                                                  StandardScaler())]),\n",
              "                                 &lt;sklearn.compose._column_transformer.make_column_selector object at 0x7f10739f50d0&gt;),\n",
              "                                (&#x27;pipeline-2&#x27;,\n",
              "                                 Pipeline(steps=[(&#x27;simpleimputer&#x27;,\n",
              "                                                  SimpleImputer(fill_value=&#x27;Small&#x27;,\n",
              "                                                                strategy=&#x27;constant&#x27;)),\n",
              "                                                 (&#x27;onehotencoder&#x27;,\n",
              "                                                  OneHotEncoder(handle_unknown=&#x27;ignore&#x27;,\n",
              "                                                                sparse=False))]),\n",
              "                                 &lt;sklearn.compose._column_transformer.make_column_selector object at 0x7f10739f5c90&gt;)])</pre><b>Please rerun this cell to show the HTML repr or trust the notebook.</b></div><div class=\"sk-container\" hidden><div class=\"sk-item sk-dashed-wrapped\"><div class=\"sk-label-container\"><div class=\"sk-label sk-toggleable\"><input class=\"sk-toggleable__control sk-hidden--visually\" id=\"50c3ad94-f40b-480f-bee6-0630cd09f127\" type=\"checkbox\" ><label for=\"50c3ad94-f40b-480f-bee6-0630cd09f127\" class=\"sk-toggleable__label sk-toggleable__label-arrow\">ColumnTransformer</label><div class=\"sk-toggleable__content\"><pre>ColumnTransformer(transformers=[(&#x27;pipeline-1&#x27;,\n",
              "                                 Pipeline(steps=[(&#x27;simpleimputer&#x27;,\n",
              "                                                  SimpleImputer()),\n",
              "                                                 (&#x27;standardscaler&#x27;,\n",
              "                                                  StandardScaler())]),\n",
              "                                 &lt;sklearn.compose._column_transformer.make_column_selector object at 0x7f10739f50d0&gt;),\n",
              "                                (&#x27;pipeline-2&#x27;,\n",
              "                                 Pipeline(steps=[(&#x27;simpleimputer&#x27;,\n",
              "                                                  SimpleImputer(fill_value=&#x27;Small&#x27;,\n",
              "                                                                strategy=&#x27;constant&#x27;)),\n",
              "                                                 (&#x27;onehotencoder&#x27;,\n",
              "                                                  OneHotEncoder(handle_unknown=&#x27;ignore&#x27;,\n",
              "                                                                sparse=False))]),\n",
              "                                 &lt;sklearn.compose._column_transformer.make_column_selector object at 0x7f10739f5c90&gt;)])</pre></div></div></div><div class=\"sk-parallel\"><div class=\"sk-parallel-item\"><div class=\"sk-item\"><div class=\"sk-label-container\"><div class=\"sk-label sk-toggleable\"><input class=\"sk-toggleable__control sk-hidden--visually\" id=\"39079744-db52-45c9-a792-a5de23c56abf\" type=\"checkbox\" ><label for=\"39079744-db52-45c9-a792-a5de23c56abf\" class=\"sk-toggleable__label sk-toggleable__label-arrow\">pipeline-1</label><div class=\"sk-toggleable__content\"><pre>&lt;sklearn.compose._column_transformer.make_column_selector object at 0x7f10739f50d0&gt;</pre></div></div></div><div class=\"sk-serial\"><div class=\"sk-item\"><div class=\"sk-serial\"><div class=\"sk-item\"><div class=\"sk-estimator sk-toggleable\"><input class=\"sk-toggleable__control sk-hidden--visually\" id=\"6ff0ebcc-c7ed-478d-b6b5-c194a404eecb\" type=\"checkbox\" ><label for=\"6ff0ebcc-c7ed-478d-b6b5-c194a404eecb\" class=\"sk-toggleable__label sk-toggleable__label-arrow\">SimpleImputer</label><div class=\"sk-toggleable__content\"><pre>SimpleImputer()</pre></div></div></div><div class=\"sk-item\"><div class=\"sk-estimator sk-toggleable\"><input class=\"sk-toggleable__control sk-hidden--visually\" id=\"7a4769b4-1d05-401c-b88a-f950a37d3840\" type=\"checkbox\" ><label for=\"7a4769b4-1d05-401c-b88a-f950a37d3840\" class=\"sk-toggleable__label sk-toggleable__label-arrow\">StandardScaler</label><div class=\"sk-toggleable__content\"><pre>StandardScaler()</pre></div></div></div></div></div></div></div></div><div class=\"sk-parallel-item\"><div class=\"sk-item\"><div class=\"sk-label-container\"><div class=\"sk-label sk-toggleable\"><input class=\"sk-toggleable__control sk-hidden--visually\" id=\"101ed022-44cc-426c-9cbe-9acae87fc864\" type=\"checkbox\" ><label for=\"101ed022-44cc-426c-9cbe-9acae87fc864\" class=\"sk-toggleable__label sk-toggleable__label-arrow\">pipeline-2</label><div class=\"sk-toggleable__content\"><pre>&lt;sklearn.compose._column_transformer.make_column_selector object at 0x7f10739f5c90&gt;</pre></div></div></div><div class=\"sk-serial\"><div class=\"sk-item\"><div class=\"sk-serial\"><div class=\"sk-item\"><div class=\"sk-estimator sk-toggleable\"><input class=\"sk-toggleable__control sk-hidden--visually\" id=\"47f3ce78-8b31-4c67-b3e7-2efdb33981bc\" type=\"checkbox\" ><label for=\"47f3ce78-8b31-4c67-b3e7-2efdb33981bc\" class=\"sk-toggleable__label sk-toggleable__label-arrow\">SimpleImputer</label><div class=\"sk-toggleable__content\"><pre>SimpleImputer(fill_value=&#x27;Small&#x27;, strategy=&#x27;constant&#x27;)</pre></div></div></div><div class=\"sk-item\"><div class=\"sk-estimator sk-toggleable\"><input class=\"sk-toggleable__control sk-hidden--visually\" id=\"8c821560-913a-4266-9b1d-f3cf963bcf7c\" type=\"checkbox\" ><label for=\"8c821560-913a-4266-9b1d-f3cf963bcf7c\" class=\"sk-toggleable__label sk-toggleable__label-arrow\">OneHotEncoder</label><div class=\"sk-toggleable__content\"><pre>OneHotEncoder(handle_unknown=&#x27;ignore&#x27;, sparse=False)</pre></div></div></div></div></div></div></div></div></div></div></div></div>"
            ]
          },
          "metadata": {},
          "execution_count": 59
        }
      ]
    },
    {
      "cell_type": "code",
      "source": [
        "#fit train data to column transformer and then transform data\n",
        "\n",
        "preprocessor.fit(X_train)\n",
        "\n",
        "X_train_processed = preprocessor.transform(X_train)\n",
        "X_test_processed = preprocessor.transform(X_test)"
      ],
      "metadata": {
        "id": "BcnVE6WQ8gCy"
      },
      "execution_count": 60,
      "outputs": []
    },
    {
      "cell_type": "code",
      "source": [
        "#resulting numpy array\n",
        "print(np.isnan(X_train_processed).sum().sum(), 'missing values in training data')\n",
        "print(np.isnan(X_test_processed).sum().sum(), 'missing values in testing data')\n",
        "print('\\n')\n",
        "print('All data in X_train_processed are', X_train_processed.dtype)\n",
        "print('All data in X_test_processed are', X_test_processed.dtype)\n",
        "print('\\n')\n",
        "print('shape of data is', X_train_processed.shape)\n",
        "print('\\n')\n",
        "X_train_processed"
      ],
      "metadata": {
        "colab": {
          "base_uri": "https://localhost:8080/"
        },
        "id": "2rCRGzOr3QWZ",
        "outputId": "b23b5770-982e-44da-c819-cfd05fdd8b6a"
      },
      "execution_count": 61,
      "outputs": [
        {
          "output_type": "stream",
          "name": "stdout",
          "text": [
            "0 missing values in training data\n",
            "0 missing values in testing data\n",
            "\n",
            "\n",
            "All data in X_train_processed are float64\n",
            "All data in X_test_processed are float64\n",
            "\n",
            "\n",
            "shape of data is (6392, 31)\n",
            "\n",
            "\n"
          ]
        },
        {
          "output_type": "execute_result",
          "data": {
            "text/plain": [
              "array([[ 0.81724868, -0.7403206 , -0.71277507, ...,  0.        ,\n",
              "         1.        ,  0.        ],\n",
              "       [ 0.5563395 ,  1.35076614, -1.29105225, ...,  0.        ,\n",
              "         1.        ,  0.        ],\n",
              "       [-0.13151196,  1.35076614,  1.81331864, ...,  1.        ,\n",
              "         0.        ,  0.        ],\n",
              "       ...,\n",
              "       [ 1.11373638, -0.7403206 , -0.92052713, ...,  1.        ,\n",
              "         0.        ,  0.        ],\n",
              "       [ 1.76600931, -0.7403206 , -0.2277552 , ...,  1.        ,\n",
              "         0.        ,  0.        ],\n",
              "       [ 0.81724868, -0.7403206 , -0.95867683, ...,  1.        ,\n",
              "         0.        ,  0.        ]])"
            ]
          },
          "metadata": {},
          "execution_count": 61
        }
      ]
    },
    {
      "cell_type": "code",
      "source": [
        "#fit processed data to linear regression model and evaluate\n",
        "\n",
        "linear_reg = LinearRegression()\n",
        "linear_reg.fit(X_train_processed,y_train)\n",
        "\n",
        "linear_reg_train_score = linear_reg.score(X_train_processed,y_train)\n",
        "linear_reg_test_score = linear_reg.score(X_test_processed,y_test)\n",
        "\n",
        "\n",
        "print('Training')\n",
        "evaluate_regression(y_train, linear_reg.predict(X_train_processed))\n",
        "print ('\\n')\n",
        "print('Testing')\n",
        "evaluate_regression(y_test, linear_reg.predict(X_test_processed))\n",
        "\n",
        "#results show model with low bias (based on error metrics) and low variance (R2 for the training and test sets are very close)\n"
      ],
      "metadata": {
        "colab": {
          "base_uri": "https://localhost:8080/"
        },
        "id": "TqclPUV3ekbL",
        "outputId": "ec1e378f-dd3d-45b5-d89f-9a127be909fe"
      },
      "execution_count": 62,
      "outputs": [
        {
          "output_type": "stream",
          "name": "stdout",
          "text": [
            "Training\n",
            "scores: \n",
            "MAE: 847.59 \n",
            "MSE: 1,298,900.53 \n",
            "RMSE: 1,139.69 \n",
            "R2: 0.56\n",
            "\n",
            "\n",
            "Testing\n",
            "scores: \n",
            "MAE: 805.00 \n",
            "MSE: 1,196,253.16 \n",
            "RMSE: 1,093.73 \n",
            "R2: 0.57\n"
          ]
        }
      ]
    },
    {
      "cell_type": "code",
      "source": [
        "#fit processed data to linear regression model and evaluate\n",
        "reg_tree = DecisionTreeRegressor(random_state=42)\n",
        "reg_tree.fit(X_train_processed,y_train)\n",
        "\n",
        "\n",
        "print('Training')\n",
        "evaluate_regression(y_train, reg_tree.predict(X_train_processed))\n",
        "print ('\\n')\n",
        "print('Testing')\n",
        "evaluate_regression(y_test, reg_tree.predict(X_test_processed))\n",
        "\n",
        "#results show high variance in the model. R2 is 1.0 which is very good, but the model does not perform well on the test data set (R2 of 0.2). We need to tune this model."
      ],
      "metadata": {
        "colab": {
          "base_uri": "https://localhost:8080/"
        },
        "id": "RjR8b9Nue6ai",
        "outputId": "e37e19e1-d52f-42d8-8c66-2706ba8245a7"
      },
      "execution_count": 63,
      "outputs": [
        {
          "output_type": "stream",
          "name": "stdout",
          "text": [
            "Training\n",
            "scores: \n",
            "MAE: 0.00 \n",
            "MSE: 0.00 \n",
            "RMSE: 0.00 \n",
            "R2: 1.00\n",
            "\n",
            "\n",
            "Testing\n",
            "scores: \n",
            "MAE: 1,039.67 \n",
            "MSE: 2,202,384.66 \n",
            "RMSE: 1,484.04 \n",
            "R2: 0.20\n"
          ]
        }
      ]
    },
    {
      "cell_type": "code",
      "source": [
        "# 1. Run a regression tree model with default parameters (unlimited depth).\n",
        "# 2. Determine the depth of the default tree.\n",
        "reg_tree.get_depth()"
      ],
      "metadata": {
        "colab": {
          "base_uri": "https://localhost:8080/"
        },
        "id": "HVvutciyfWlU",
        "outputId": "89bfcd8f-1c79-4c61-8ce0-33c5fd5fd93d"
      },
      "execution_count": 64,
      "outputs": [
        {
          "output_type": "execute_result",
          "data": {
            "text/plain": [
              "40"
            ]
          },
          "metadata": {},
          "execution_count": 64
        }
      ]
    },
    {
      "cell_type": "code",
      "source": [
        "# List of values to try from-rainbow\">for max_depth:\n",
        "depths = list(range(2, 40)) # will try every value between 2 and 40\n",
        "# Data frame to store the score for each value of max_depth:\n",
        "scores = pd.DataFrame(index=depths, columns=['Test Score','Train Score'])\n",
        "for depth in depths:\n",
        "    reg_tree = DecisionTreeRegressor(max_depth=depth, random_state=42)\n",
        "    reg_tree.fit(X_train_processed, y_train)\n",
        "    train_score = reg_tree.score(X_train_processed, y_train)\n",
        "    test_score = reg_tree.score(X_test_processed, y_test)\n",
        "    scores.loc[depth, 'Train Score'] = train_score\n",
        "    scores.loc[depth, 'Test Score'] = test_score\n",
        "\n",
        "plt.plot(depths, scores['Test Score'])\n",
        "plt.xlabel('max_depth')\n",
        "plt.ylabel('R2');\n",
        "\n"
      ],
      "metadata": {
        "colab": {
          "base_uri": "https://localhost:8080/",
          "height": 280
        },
        "id": "DPZ8uKeuj1Kb",
        "outputId": "5595fafa-6f42-46ba-d90b-9ef760c7a759"
      },
      "execution_count": 68,
      "outputs": [
        {
          "output_type": "display_data",
          "data": {
            "text/plain": [
              "<Figure size 432x288 with 1 Axes>"
            ],
            "image/png": "[encoded data removed]"
          },
          "metadata": {
            "needs_background": "light"
          }
        }
      ]
    },
    {
      "cell_type": "code",
      "source": [
        "sorted_scores = scores.sort_values(by='Test Score', ascending=False)\n",
        "sorted_scores.head()"
      ],
      "metadata": {
        "colab": {
          "base_uri": "https://localhost:8080/",
          "height": 206
        },
        "id": "6iPSZBE4j5WT",
        "outputId": "c251c7d2-3f14-479b-aa8d-63dd6f357aa3"
      },
      "execution_count": 66,
      "outputs": [
        {
          "output_type": "execute_result",
          "data": {
            "text/plain": [
              "  Test Score Train Score\n",
              "5    0.59471     0.60394\n",
              "4   0.584005    0.582625\n",
              "6   0.582356    0.615072\n",
              "7   0.577047    0.626449\n",
              "8    0.56169     0.64275"
            ],
            "text/html": [
              "\n",
              "  <div id=\"df-51d095dd-cce8-44c1-bc48-6c5cf706fdef\">\n",
              "    <div class=\"colab-df-container\">\n",
              "      <div>\n",
              "<style scoped>\n",
              "    .dataframe tbody tr th:only-of-type {\n",
              "        vertical-align: middle;\n",
              "    }\n",
              "\n",
              "    .dataframe tbody tr th {\n",
              "        vertical-align: top;\n",
              "    }\n",
              "\n",
              "    .dataframe thead th {\n",
              "        text-align: right;\n",
              "    }\n",
              "</style>\n",
              "<table border=\"1\" class=\"dataframe\">\n",
              "  <thead>\n",
              "    <tr style=\"text-align: right;\">\n",
              "      <th></th>\n",
              "      <th>Test Score</th>\n",
              "      <th>Train Score</th>\n",
              "    </tr>\n",
              "  </thead>\n",
              "  <tbody>\n",
              "    <tr>\n",
              "      <th>5</th>\n",
              "      <td>0.59471</td>\n",
              "      <td>0.60394</td>\n",
              "    </tr>\n",
              "    <tr>\n",
              "      <th>4</th>\n",
              "      <td>0.584005</td>\n",
              "      <td>0.582625</td>\n",
              "    </tr>\n",
              "    <tr>\n",
              "      <th>6</th>\n",
              "      <td>0.582356</td>\n",
              "      <td>0.615072</td>\n",
              "    </tr>\n",
              "    <tr>\n",
              "      <th>7</th>\n",
              "      <td>0.577047</td>\n",
              "      <td>0.626449</td>\n",
              "    </tr>\n",
              "    <tr>\n",
              "      <th>8</th>\n",
              "      <td>0.56169</td>\n",
              "      <td>0.64275</td>\n",
              "    </tr>\n",
              "  </tbody>\n",
              "</table>\n",
              "</div>\n",
              "      <button class=\"colab-df-convert\" onclick=\"convertToInteractive('df-51d095dd-cce8-44c1-bc48-6c5cf706fdef')\"\n",
              "              title=\"Convert this dataframe to an interactive table.\"\n",
              "              style=\"display:none;\">\n",
              "        \n",
              "  <svg xmlns=\"http://www.w3.org/2000/svg\" height=\"24px\"viewBox=\"0 0 24 24\"\n",
              "       width=\"24px\">\n",
              "    <path d=\"M0 0h24v24H0V0z\" fill=\"none\"/>\n",
              "    <path d=\"M18.56 5.44l.94 2.06.94-2.06 2.06-.94-2.06-.94-.94-2.06-.94 2.06-2.06.94zm-11 1L8.5 8.5l.94-2.06 2.06-.94-2.06-.94L8.5 2.5l-.94 2.06-2.06.94zm10 10l.94 2.06.94-2.06 2.06-.94-2.06-.94-.94-2.06-.94 2.06-2.06.94z\"/><path d=\"M17.41 7.96l-1.37-1.37c-.4-.4-.92-.59-1.43-.59-.52 0-1.04.2-1.43.59L10.3 9.45l-7.72 7.72c-.78.78-.78 2.05 0 2.83L4 21.41c.39.39.9.59 1.41.59.51 0 1.02-.2 1.41-.59l7.78-7.78 2.81-2.81c.8-.78.8-2.07 0-2.86zM5.41 20L4 18.59l7.72-7.72 1.47 1.35L5.41 20z\"/>\n",
              "  </svg>\n",
              "      </button>\n",
              "      \n",
              "  <style>\n",
              "    .colab-df-container {\n",
              "      display:flex;\n",
              "      flex-wrap:wrap;\n",
              "      gap: 12px;\n",
              "    }\n",
              "\n",
              "    .colab-df-convert {\n",
              "      background-color: #E8F0FE;\n",
              "      border: none;\n",
              "      border-radius: 50%;\n",
              "      cursor: pointer;\n",
              "      display: none;\n",
              "      fill: #1967D2;\n",
              "      height: 32px;\n",
              "      padding: 0 0 0 0;\n",
              "      width: 32px;\n",
              "    }\n",
              "\n",
              "    .colab-df-convert:hover {\n",
              "      background-color: #E2EBFA;\n",
              "      box-shadow: 0px 1px 2px rgba(60, 64, 67, 0.3), 0px 1px 3px 1px rgba(60, 64, 67, 0.15);\n",
              "      fill: #174EA6;\n",
              "    }\n",
              "\n",
              "    [theme=dark] .colab-df-convert {\n",
              "      background-color: #3B4455;\n",
              "      fill: #D2E3FC;\n",
              "    }\n",
              "\n",
              "    [theme=dark] .colab-df-convert:hover {\n",
              "      background-color: #434B5C;\n",
              "      box-shadow: 0px 1px 3px 1px rgba(0, 0, 0, 0.15);\n",
              "      filter: drop-shadow(0px 1px 2px rgba(0, 0, 0, 0.3));\n",
              "      fill: #FFFFFF;\n",
              "    }\n",
              "  </style>\n",
              "\n",
              "      <script>\n",
              "        const buttonEl =\n",
              "          document.querySelector('#df-51d095dd-cce8-44c1-bc48-6c5cf706fdef button.colab-df-convert');\n",
              "        buttonEl.style.display =\n",
              "          google.colab.kernel.accessAllowed ? 'block' : 'none';\n",
              "\n",
              "        async function convertToInteractive(key) {\n",
              "          const element = document.querySelector('#df-51d095dd-cce8-44c1-bc48-6c5cf706fdef');\n",
              "          const dataTable =\n",
              "            await google.colab.kernel.invokeFunction('convertToInteractive',\n",
              "                                                     [key], {});\n",
              "          if (!dataTable) return;\n",
              "\n",
              "          const docLinkHtml = 'Like what you see? Visit the ' +\n",
              "            '<a target=\"_blank\" href=https://colab.research.google.com/notebooks/data_table.ipynb>data table notebook</a>'\n",
              "            + ' to learn more about interactive tables.';\n",
              "          element.innerHTML = '';\n",
              "          dataTable['output_type'] = 'display_data';\n",
              "          await google.colab.output.renderOutput(dataTable, element);\n",
              "          const docLink = document.createElement('div');\n",
              "          docLink.innerHTML = docLinkHtml;\n",
              "          element.appendChild(docLink);\n",
              "        }\n",
              "      </script>\n",
              "    </div>\n",
              "  </div>\n",
              "  "
            ]
          },
          "metadata": {},
          "execution_count": 66
        }
      ]
    },
    {
      "cell_type": "code",
      "source": [
        "# 4. What is the r2 of your final model on the training set and on the test set?\n",
        "\n",
        "# Let's run the model with our optimized value for max_depth\n",
        "reg_tree_5 = DecisionTreeRegressor(max_depth = 5, random_state = 42)\n",
        "reg_tree_5.fit(X_train_processed, y_train)\n",
        "\n",
        "\n",
        "print('Training')\n",
        "evaluate_regression(y_train, reg_tree_5.predict(X_train_processed))\n",
        "print ('\\n')\n",
        "print('Testing')\n",
        "evaluate_regression(y_test, reg_tree_5.predict(X_test_processed))\n",
        "\n",
        "#After tuning, the results show a model with low bias (based on error metrics) and low variance (R2 for the training and test sets are very close)"
      ],
      "metadata": {
        "colab": {
          "base_uri": "https://localhost:8080/"
        },
        "id": "e67BjoMKkPgD",
        "outputId": "8fa4d02b-e537-45d3-9406-fdb284fb8cba"
      },
      "execution_count": 67,
      "outputs": [
        {
          "output_type": "stream",
          "name": "stdout",
          "text": [
            "Training\n",
            "scores: \n",
            "MAE: 762.61 \n",
            "MSE: 1,172,122.77 \n",
            "RMSE: 1,082.65 \n",
            "R2: 0.60\n",
            "\n",
            "\n",
            "Testing\n",
            "scores: \n",
            "MAE: 738.32 \n",
            "MSE: 1,118,185.97 \n",
            "RMSE: 1,057.44 \n",
            "R2: 0.59\n"
          ]
        }
      ]
    },
    {
      "cell_type": "markdown",
      "source": [
        "Both models have low bias and variance and preform similarly but I would choose the tuned regression tree model as it has a higher R2 value and lower MAE/MSE/RMSE values."
      ],
      "metadata": {
        "id": "G22UhVry5u7s"
      }
    }
  ]
}