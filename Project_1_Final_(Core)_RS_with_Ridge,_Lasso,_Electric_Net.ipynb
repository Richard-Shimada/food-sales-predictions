{
  "nbformat": 4,
  "nbformat_minor": 0,
  "metadata": {
    "colab": {
      "provenance": [],
      "mount_file_id": "1xQZbdLwyK-Dj8kYBJkKvqF5MLgg_YW1J",
      "authorship_tag": "ABX9TyP4AGnpboV71ViLHESqRRun",
      "include_colab_link": true
    },
    "kernelspec": {
      "name": "python3",
      "display_name": "Python 3"
    },
    "language_info": {
      "name": "python"
    }
  },
  "cells": [
    {
      "cell_type": "markdown",
      "metadata": {
        "id": "view-in-github",
        "colab_type": "text"
      },
      "source": [
        "<a href=\"https://colab.research.google.com/github/Richard-Shimada/food-sales-predictions/blob/main/Project_1_Final_(Core)_RS_with_Ridge%2C_Lasso%2C_Electric_Net.ipynb\" target=\"_parent\"><img src=\"https://colab.research.google.com/assets/colab-badge.svg\" alt=\"Open In Colab\"/></a>"
      ]
    },
    {
      "cell_type": "code",
      "execution_count": 31,
      "metadata": {
        "colab": {
          "base_uri": "https://localhost:8080/",
          "height": 206
        },
        "id": "uTVjTlLrvPNI",
        "outputId": "6b6a034e-37da-4ef4-f203-5e49c32e760e"
      },
      "outputs": [
        {
          "output_type": "execute_result",
          "data": {
            "text/plain": [
              "  Item_Identifier  Item_Weight Item_Fat_Content  Item_Visibility  \\\n",
              "0           FDA15         9.30          Low Fat         0.016047   \n",
              "1           DRC01         5.92          Regular         0.019278   \n",
              "2           FDN15        17.50          Low Fat         0.016760   \n",
              "3           FDX07        19.20          Regular         0.000000   \n",
              "4           NCD19         8.93          Low Fat         0.000000   \n",
              "\n",
              "               Item_Type  Item_MRP Outlet_Identifier  \\\n",
              "0                  Dairy  249.8092            OUT049   \n",
              "1            Soft Drinks   48.2692            OUT018   \n",
              "2                   Meat  141.6180            OUT049   \n",
              "3  Fruits and Vegetables  182.0950            OUT010   \n",
              "4              Household   53.8614            OUT013   \n",
              "\n",
              "   Outlet_Establishment_Year Outlet_Size Outlet_Location_Type  \\\n",
              "0                       1999      Medium               Tier 1   \n",
              "1                       2009      Medium               Tier 3   \n",
              "2                       1999      Medium               Tier 1   \n",
              "3                       1998         NaN               Tier 3   \n",
              "4                       1987        High               Tier 3   \n",
              "\n",
              "         Outlet_Type  Item_Outlet_Sales  \n",
              "0  Supermarket Type1          3735.1380  \n",
              "1  Supermarket Type2           443.4228  \n",
              "2  Supermarket Type1          2097.2700  \n",
              "3      Grocery Store           732.3800  \n",
              "4  Supermarket Type1           994.7052  "
            ],
            "text/html": [
              "\n",
              "  <div id=\"df-e7b7c61b-269a-411a-b105-fc615fec7b55\">\n",
              "    <div class=\"colab-df-container\">\n",
              "      <div>\n",
              "<style scoped>\n",
              "    .dataframe tbody tr th:only-of-type {\n",
              "        vertical-align: middle;\n",
              "    }\n",
              "\n",
              "    .dataframe tbody tr th {\n",
              "        vertical-align: top;\n",
              "    }\n",
              "\n",
              "    .dataframe thead th {\n",
              "        text-align: right;\n",
              "    }\n",
              "</style>\n",
              "<table border=\"1\" class=\"dataframe\">\n",
              "  <thead>\n",
              "    <tr style=\"text-align: right;\">\n",
              "      <th></th>\n",
              "      <th>Item_Identifier</th>\n",
              "      <th>Item_Weight</th>\n",
              "      <th>Item_Fat_Content</th>\n",
              "      <th>Item_Visibility</th>\n",
              "      <th>Item_Type</th>\n",
              "      <th>Item_MRP</th>\n",
              "      <th>Outlet_Identifier</th>\n",
              "      <th>Outlet_Establishment_Year</th>\n",
              "      <th>Outlet_Size</th>\n",
              "      <th>Outlet_Location_Type</th>\n",
              "      <th>Outlet_Type</th>\n",
              "      <th>Item_Outlet_Sales</th>\n",
              "    </tr>\n",
              "  </thead>\n",
              "  <tbody>\n",
              "    <tr>\n",
              "      <th>0</th>\n",
              "      <td>FDA15</td>\n",
              "      <td>9.30</td>\n",
              "      <td>Low Fat</td>\n",
              "      <td>0.016047</td>\n",
              "      <td>Dairy</td>\n",
              "      <td>249.8092</td>\n",
              "      <td>OUT049</td>\n",
              "      <td>1999</td>\n",
              "      <td>Medium</td>\n",
              "      <td>Tier 1</td>\n",
              "      <td>Supermarket Type1</td>\n",
              "      <td>3735.1380</td>\n",
              "    </tr>\n",
              "    <tr>\n",
              "      <th>1</th>\n",
              "      <td>DRC01</td>\n",
              "      <td>5.92</td>\n",
              "      <td>Regular</td>\n",
              "      <td>0.019278</td>\n",
              "      <td>Soft Drinks</td>\n",
              "      <td>48.2692</td>\n",
              "      <td>OUT018</td>\n",
              "      <td>2009</td>\n",
              "      <td>Medium</td>\n",
              "      <td>Tier 3</td>\n",
              "      <td>Supermarket Type2</td>\n",
              "      <td>443.4228</td>\n",
              "    </tr>\n",
              "    <tr>\n",
              "      <th>2</th>\n",
              "      <td>FDN15</td>\n",
              "      <td>17.50</td>\n",
              "      <td>Low Fat</td>\n",
              "      <td>0.016760</td>\n",
              "      <td>Meat</td>\n",
              "      <td>141.6180</td>\n",
              "      <td>OUT049</td>\n",
              "      <td>1999</td>\n",
              "      <td>Medium</td>\n",
              "      <td>Tier 1</td>\n",
              "      <td>Supermarket Type1</td>\n",
              "      <td>2097.2700</td>\n",
              "    </tr>\n",
              "    <tr>\n",
              "      <th>3</th>\n",
              "      <td>FDX07</td>\n",
              "      <td>19.20</td>\n",
              "      <td>Regular</td>\n",
              "      <td>0.000000</td>\n",
              "      <td>Fruits and Vegetables</td>\n",
              "      <td>182.0950</td>\n",
              "      <td>OUT010</td>\n",
              "      <td>1998</td>\n",
              "      <td>NaN</td>\n",
              "      <td>Tier 3</td>\n",
              "      <td>Grocery Store</td>\n",
              "      <td>732.3800</td>\n",
              "    </tr>\n",
              "    <tr>\n",
              "      <th>4</th>\n",
              "      <td>NCD19</td>\n",
              "      <td>8.93</td>\n",
              "      <td>Low Fat</td>\n",
              "      <td>0.000000</td>\n",
              "      <td>Household</td>\n",
              "      <td>53.8614</td>\n",
              "      <td>OUT013</td>\n",
              "      <td>1987</td>\n",
              "      <td>High</td>\n",
              "      <td>Tier 3</td>\n",
              "      <td>Supermarket Type1</td>\n",
              "      <td>994.7052</td>\n",
              "    </tr>\n",
              "  </tbody>\n",
              "</table>\n",
              "</div>\n",
              "      <button class=\"colab-df-convert\" onclick=\"convertToInteractive('df-e7b7c61b-269a-411a-b105-fc615fec7b55')\"\n",
              "              title=\"Convert this dataframe to an interactive table.\"\n",
              "              style=\"display:none;\">\n",
              "        \n",
              "  <svg xmlns=\"http://www.w3.org/2000/svg\" height=\"24px\"viewBox=\"0 0 24 24\"\n",
              "       width=\"24px\">\n",
              "    <path d=\"M0 0h24v24H0V0z\" fill=\"none\"/>\n",
              "    <path d=\"M18.56 5.44l.94 2.06.94-2.06 2.06-.94-2.06-.94-.94-2.06-.94 2.06-2.06.94zm-11 1L8.5 8.5l.94-2.06 2.06-.94-2.06-.94L8.5 2.5l-.94 2.06-2.06.94zm10 10l.94 2.06.94-2.06 2.06-.94-2.06-.94-.94-2.06-.94 2.06-2.06.94z\"/><path d=\"M17.41 7.96l-1.37-1.37c-.4-.4-.92-.59-1.43-.59-.52 0-1.04.2-1.43.59L10.3 9.45l-7.72 7.72c-.78.78-.78 2.05 0 2.83L4 21.41c.39.39.9.59 1.41.59.51 0 1.02-.2 1.41-.59l7.78-7.78 2.81-2.81c.8-.78.8-2.07 0-2.86zM5.41 20L4 18.59l7.72-7.72 1.47 1.35L5.41 20z\"/>\n",
              "  </svg>\n",
              "      </button>\n",
              "      \n",
              "  <style>\n",
              "    .colab-df-container {\n",
              "      display:flex;\n",
              "      flex-wrap:wrap;\n",
              "      gap: 12px;\n",
              "    }\n",
              "\n",
              "    .colab-df-convert {\n",
              "      background-color: #E8F0FE;\n",
              "      border: none;\n",
              "      border-radius: 50%;\n",
              "      cursor: pointer;\n",
              "      display: none;\n",
              "      fill: #1967D2;\n",
              "      height: 32px;\n",
              "      padding: 0 0 0 0;\n",
              "      width: 32px;\n",
              "    }\n",
              "\n",
              "    .colab-df-convert:hover {\n",
              "      background-color: #E2EBFA;\n",
              "      box-shadow: 0px 1px 2px rgba(60, 64, 67, 0.3), 0px 1px 3px 1px rgba(60, 64, 67, 0.15);\n",
              "      fill: #174EA6;\n",
              "    }\n",
              "\n",
              "    [theme=dark] .colab-df-convert {\n",
              "      background-color: #3B4455;\n",
              "      fill: #D2E3FC;\n",
              "    }\n",
              "\n",
              "    [theme=dark] .colab-df-convert:hover {\n",
              "      background-color: #434B5C;\n",
              "      box-shadow: 0px 1px 3px 1px rgba(0, 0, 0, 0.15);\n",
              "      filter: drop-shadow(0px 1px 2px rgba(0, 0, 0, 0.3));\n",
              "      fill: #FFFFFF;\n",
              "    }\n",
              "  </style>\n",
              "\n",
              "      <script>\n",
              "        const buttonEl =\n",
              "          document.querySelector('#df-e7b7c61b-269a-411a-b105-fc615fec7b55 button.colab-df-convert');\n",
              "        buttonEl.style.display =\n",
              "          google.colab.kernel.accessAllowed ? 'block' : 'none';\n",
              "\n",
              "        async function convertToInteractive(key) {\n",
              "          const element = document.querySelector('#df-e7b7c61b-269a-411a-b105-fc615fec7b55');\n",
              "          const dataTable =\n",
              "            await google.colab.kernel.invokeFunction('convertToInteractive',\n",
              "                                                     [key], {});\n",
              "          if (!dataTable) return;\n",
              "\n",
              "          const docLinkHtml = 'Like what you see? Visit the ' +\n",
              "            '<a target=\"_blank\" href=https://colab.research.google.com/notebooks/data_table.ipynb>data table notebook</a>'\n",
              "            + ' to learn more about interactive tables.';\n",
              "          element.innerHTML = '';\n",
              "          dataTable['output_type'] = 'display_data';\n",
              "          await google.colab.output.renderOutput(dataTable, element);\n",
              "          const docLink = document.createElement('div');\n",
              "          docLink.innerHTML = docLinkHtml;\n",
              "          element.appendChild(docLink);\n",
              "        }\n",
              "      </script>\n",
              "    </div>\n",
              "  </div>\n",
              "  "
            ]
          },
          "metadata": {},
          "execution_count": 31
        }
      ],
      "source": [
        "#import libraries and load data\n",
        "import pandas as pd\n",
        "import numpy as np\n",
        "import matplotlib.pyplot as plt\n",
        "from sklearn.preprocessing import StandardScaler, OneHotEncoder\n",
        "from sklearn.impute import SimpleImputer\n",
        "from sklearn.compose import make_column_transformer, make_column_selector\n",
        "from sklearn.pipeline import make_pipeline\n",
        "from sklearn.model_selection import train_test_split, GridSearchCV\n",
        "from sklearn.linear_model import LinearRegression, Ridge, Lasso, ElasticNet\n",
        "from sklearn.tree import DecisionTreeRegressor\n",
        "from sklearn.metrics import mean_absolute_error, mean_squared_error, r2_score\n",
        "from sklearn import set_config\n",
        "set_config(display='diagram')\n",
        "\n",
        "df = pd.read_csv('/content/drive/MyDrive/Coding Dojo 2022/05 Week 5: Intro to Machine Learning and Pre-Processing/sales_predictions_original.csv')\n",
        "sales_df = df.copy()\n",
        "sales_df.head()"
      ]
    },
    {
      "cell_type": "code",
      "source": [
        "# Create a function to take the true and predicted labels and print MAE, MSE, RMSE, and R2 metrics\n",
        "def evaluate_regression(y_true, y_pred):\n",
        "  \"\"\"Takes true target and predicted target and prints MAE, MSE, RMSE and R2\"\"\"\n",
        "  \n",
        "  mae = mean_absolute_error(y_true, y_pred)\n",
        "  mse = mean_squared_error(y_true, y_pred)\n",
        "  rmse = np.sqrt(mse)\n",
        "  r2 = r2_score(y_true, y_pred)\n",
        "\n",
        "  print(f'scores: \\nMAE: {mae:,.2f} \\nMSE: {mse:,.2f} \\nRMSE: {rmse:,.2f} \\nR2: {r2:.2f}')"
      ],
      "metadata": {
        "id": "50hSPVxjf2BP"
      },
      "execution_count": 3,
      "outputs": []
    },
    {
      "cell_type": "code",
      "source": [
        "#no duplicates\n",
        "sales_df.duplicated().sum()\n",
        "\n"
      ],
      "metadata": {
        "colab": {
          "base_uri": "https://localhost:8080/"
        },
        "id": "McBzyIV1viD6",
        "outputId": "7f91a6c8-b0dd-44c7-d0aa-921a82849972"
      },
      "execution_count": 4,
      "outputs": [
        {
          "output_type": "execute_result",
          "data": {
            "text/plain": [
              "0"
            ]
          },
          "metadata": {},
          "execution_count": 4
        }
      ]
    },
    {
      "cell_type": "code",
      "source": [
        "#change all values to Low Fat or Regular. Will ordinal encode assuming that the average consumer will be health conscious where possible, can also see the one hot encode point of view one is not inherently better than the other in terms of predicting sales\n",
        "sales_df['Item_Fat_Content'].value_counts()\n",
        "sales_df['Item_Fat_Content'].replace({'Low Fat':0,'LF':0,'low fat':0,'Regular':1,'reg':1},inplace=True)\n",
        "sales_df['Item_Fat_Content'].value_counts()"
      ],
      "metadata": {
        "colab": {
          "base_uri": "https://localhost:8080/"
        },
        "id": "BCk9eZkkxTEI",
        "outputId": "09e0cbe8-f38b-4f71-b9dc-fa3a3c2a8e06"
      },
      "execution_count": 5,
      "outputs": [
        {
          "output_type": "execute_result",
          "data": {
            "text/plain": [
              "0    5517\n",
              "1    3006\n",
              "Name: Item_Fat_Content, dtype: int64"
            ]
          },
          "metadata": {},
          "execution_count": 5
        }
      ]
    },
    {
      "cell_type": "code",
      "source": [
        "sales_df['Outlet_Identifier'].nunique()\n",
        "#sales_df.shape"
      ],
      "metadata": {
        "colab": {
          "base_uri": "https://localhost:8080/"
        },
        "id": "A6eeNQ-X03Fw",
        "outputId": "fce0d471-43f5-4ae4-e5c7-c6fcd0decc34"
      },
      "execution_count": 6,
      "outputs": [
        {
          "output_type": "execute_result",
          "data": {
            "text/plain": [
              "10"
            ]
          },
          "metadata": {},
          "execution_count": 6
        }
      ]
    },
    {
      "cell_type": "code",
      "source": [
        "# Identifying the features (X) and target (y): \"Item_Outlet_Sales\" column is the target; dropped Item_Identifier and Outlet_Identifier from the features matrix as they are just IDs that wouldn't have any predicting power \n",
        "\n",
        "X = sales_df.drop(['Item_Identifier','Outlet_Identifier','Item_Outlet_Sales'],axis=1)\n",
        "y = sales_df['Item_Outlet_Sales']"
      ],
      "metadata": {
        "id": "yTEDiDrLwJe8"
      },
      "execution_count": 7,
      "outputs": []
    },
    {
      "cell_type": "code",
      "source": [
        "# Perform a train test split \n",
        "X_train,X_test,y_train,y_test = train_test_split(X,y,random_state=42)"
      ],
      "metadata": {
        "id": "zGIEg31-1h4n"
      },
      "execution_count": 8,
      "outputs": []
    },
    {
      "cell_type": "code",
      "source": [
        "# Create a preprocessing object to prepare the dataset for Machine Learning\n",
        "categorical_columns = make_column_selector(dtype_include='object')\n",
        "numeric_columns = make_column_selector(dtype_include='number')"
      ],
      "metadata": {
        "id": "_7WQ_o791jfJ"
      },
      "execution_count": 9,
      "outputs": []
    },
    {
      "cell_type": "code",
      "source": [
        "#Need to address null values in Item_weight and Outlet_Size\n",
        "X_train.isna().sum()"
      ],
      "metadata": {
        "colab": {
          "base_uri": "https://localhost:8080/"
        },
        "id": "IE9KaM043Yvu",
        "outputId": "6cc4ccb9-461e-48d5-8f11-b0cf82ee1b62"
      },
      "execution_count": 10,
      "outputs": [
        {
          "output_type": "execute_result",
          "data": {
            "text/plain": [
              "Item_Weight                  1107\n",
              "Item_Fat_Content                0\n",
              "Item_Visibility                 0\n",
              "Item_Type                       0\n",
              "Item_MRP                        0\n",
              "Outlet_Establishment_Year       0\n",
              "Outlet_Size                  1812\n",
              "Outlet_Location_Type            0\n",
              "Outlet_Type                     0\n",
              "dtype: int64"
            ]
          },
          "metadata": {},
          "execution_count": 10
        }
      ]
    },
    {
      "cell_type": "code",
      "source": [
        "\n",
        "#X_train['Item_Weight'].nunique()\n",
        "#Since item weight is continuous and has many different values,  we will use the mean to impute values\n",
        "\n",
        "#For rows where Outlet_Size is not null,Outlet_Location_Type of Tier 2 only appears in Outlet_Size of Small, same for Outlet_Type = Grocery Store.\n",
        "#For all rows where Outlet_Size is null, values of either Tier 2 or Grocery are in each row! So we will impute the NaN to Small\n",
        "#X_train['Outlet_Size'].value_counts()\n",
        "#X_train.groupby(['Outlet_Size','Outlet_Location_Type','Outlet_Type'],dropna=False)['Item_MRP'].sum()\n",
        "\n"
      ],
      "metadata": {
        "id": "ldzlPhaR5HgL"
      },
      "execution_count": 11,
      "outputs": []
    },
    {
      "cell_type": "code",
      "source": [
        "#instantiate scalar and ohe\n",
        "#For imputing, using the ‘mean’ strategy for Item_Weight and the constant(Small) strategy for Outlet_Size\n",
        "constant_imputer = SimpleImputer(strategy='constant',fill_value='Small')\n",
        "mean_imputer = SimpleImputer(strategy='mean')\n",
        "# Scaler\n",
        "scaler = StandardScaler()\n",
        "# One-hot encoder\n",
        "ohe = OneHotEncoder(handle_unknown='ignore', sparse=False)"
      ],
      "metadata": {
        "id": "J2Xe06Ee3U1n"
      },
      "execution_count": 12,
      "outputs": []
    },
    {
      "cell_type": "code",
      "source": [
        "numeric_pipeline = make_pipeline(mean_imputer,scaler)\n",
        "numeric_pipeline"
      ],
      "metadata": {
        "colab": {
          "base_uri": "https://localhost:8080/",
          "height": 124
        },
        "id": "MZfp2Vpn7Uvt",
        "outputId": "43d81ca3-f1f1-4df2-e55b-1caaf63f7d35"
      },
      "execution_count": 13,
      "outputs": [
        {
          "output_type": "execute_result",
          "data": {
            "text/plain": [
              "Pipeline(steps=[('simpleimputer', SimpleImputer()),\n",
              "                ('standardscaler', StandardScaler())])"
            ],
            "text/html": [
              "<style>#sk-2d3d62e8-bdd5-459f-9dfb-49790e3344cd {color: black;background-color: white;}#sk-2d3d62e8-bdd5-459f-9dfb-49790e3344cd pre{padding: 0;}#sk-2d3d62e8-bdd5-459f-9dfb-49790e3344cd div.sk-toggleable {background-color: white;}#sk-2d3d62e8-bdd5-459f-9dfb-49790e3344cd label.sk-toggleable__label {cursor: pointer;display: block;width: 100%;margin-bottom: 0;padding: 0.3em;box-sizing: border-box;text-align: center;}#sk-2d3d62e8-bdd5-459f-9dfb-49790e3344cd label.sk-toggleable__label-arrow:before {content: \"▸\";float: left;margin-right: 0.25em;color: #696969;}#sk-2d3d62e8-bdd5-459f-9dfb-49790e3344cd label.sk-toggleable__label-arrow:hover:before {color: black;}#sk-2d3d62e8-bdd5-459f-9dfb-49790e3344cd div.sk-estimator:hover label.sk-toggleable__label-arrow:before {color: black;}#sk-2d3d62e8-bdd5-459f-9dfb-49790e3344cd div.sk-toggleable__content {max-height: 0;max-width: 0;overflow: hidden;text-align: left;background-color: #f0f8ff;}#sk-2d3d62e8-bdd5-459f-9dfb-49790e3344cd div.sk-toggleable__content pre {margin: 0.2em;color: black;border-radius: 0.25em;background-color: #f0f8ff;}#sk-2d3d62e8-bdd5-459f-9dfb-49790e3344cd input.sk-toggleable__control:checked~div.sk-toggleable__content {max-height: 200px;max-width: 100%;overflow: auto;}#sk-2d3d62e8-bdd5-459f-9dfb-49790e3344cd input.sk-toggleable__control:checked~label.sk-toggleable__label-arrow:before {content: \"▾\";}#sk-2d3d62e8-bdd5-459f-9dfb-49790e3344cd div.sk-estimator input.sk-toggleable__control:checked~label.sk-toggleable__label {background-color: #d4ebff;}#sk-2d3d62e8-bdd5-459f-9dfb-49790e3344cd div.sk-label input.sk-toggleable__control:checked~label.sk-toggleable__label {background-color: #d4ebff;}#sk-2d3d62e8-bdd5-459f-9dfb-49790e3344cd input.sk-hidden--visually {border: 0;clip: rect(1px 1px 1px 1px);clip: rect(1px, 1px, 1px, 1px);height: 1px;margin: -1px;overflow: hidden;padding: 0;position: absolute;width: 1px;}#sk-2d3d62e8-bdd5-459f-9dfb-49790e3344cd div.sk-estimator {font-family: monospace;background-color: #f0f8ff;border: 1px dotted black;border-radius: 0.25em;box-sizing: border-box;margin-bottom: 0.5em;}#sk-2d3d62e8-bdd5-459f-9dfb-49790e3344cd div.sk-estimator:hover {background-color: #d4ebff;}#sk-2d3d62e8-bdd5-459f-9dfb-49790e3344cd div.sk-parallel-item::after {content: \"\";width: 100%;border-bottom: 1px solid gray;flex-grow: 1;}#sk-2d3d62e8-bdd5-459f-9dfb-49790e3344cd div.sk-label:hover label.sk-toggleable__label {background-color: #d4ebff;}#sk-2d3d62e8-bdd5-459f-9dfb-49790e3344cd div.sk-serial::before {content: \"\";position: absolute;border-left: 1px solid gray;box-sizing: border-box;top: 2em;bottom: 0;left: 50%;}#sk-2d3d62e8-bdd5-459f-9dfb-49790e3344cd div.sk-serial {display: flex;flex-direction: column;align-items: center;background-color: white;padding-right: 0.2em;padding-left: 0.2em;}#sk-2d3d62e8-bdd5-459f-9dfb-49790e3344cd div.sk-item {z-index: 1;}#sk-2d3d62e8-bdd5-459f-9dfb-49790e3344cd div.sk-parallel {display: flex;align-items: stretch;justify-content: center;background-color: white;}#sk-2d3d62e8-bdd5-459f-9dfb-49790e3344cd div.sk-parallel::before {content: \"\";position: absolute;border-left: 1px solid gray;box-sizing: border-box;top: 2em;bottom: 0;left: 50%;}#sk-2d3d62e8-bdd5-459f-9dfb-49790e3344cd div.sk-parallel-item {display: flex;flex-direction: column;position: relative;background-color: white;}#sk-2d3d62e8-bdd5-459f-9dfb-49790e3344cd div.sk-parallel-item:first-child::after {align-self: flex-end;width: 50%;}#sk-2d3d62e8-bdd5-459f-9dfb-49790e3344cd div.sk-parallel-item:last-child::after {align-self: flex-start;width: 50%;}#sk-2d3d62e8-bdd5-459f-9dfb-49790e3344cd div.sk-parallel-item:only-child::after {width: 0;}#sk-2d3d62e8-bdd5-459f-9dfb-49790e3344cd div.sk-dashed-wrapped {border: 1px dashed gray;margin: 0 0.4em 0.5em 0.4em;box-sizing: border-box;padding-bottom: 0.4em;background-color: white;position: relative;}#sk-2d3d62e8-bdd5-459f-9dfb-49790e3344cd div.sk-label label {font-family: monospace;font-weight: bold;background-color: white;display: inline-block;line-height: 1.2em;}#sk-2d3d62e8-bdd5-459f-9dfb-49790e3344cd div.sk-label-container {position: relative;z-index: 2;text-align: center;}#sk-2d3d62e8-bdd5-459f-9dfb-49790e3344cd div.sk-container {/* jupyter's `normalize.less` sets `[hidden] { display: none; }` but bootstrap.min.css set `[hidden] { display: none !important; }` so we also need the `!important` here to be able to override the default hidden behavior on the sphinx rendered scikit-learn.org. See: https://github.com/scikit-learn/scikit-learn/issues/21755 */display: inline-block !important;position: relative;}#sk-2d3d62e8-bdd5-459f-9dfb-49790e3344cd div.sk-text-repr-fallback {display: none;}</style><div id=\"sk-2d3d62e8-bdd5-459f-9dfb-49790e3344cd\" class=\"sk-top-container\"><div class=\"sk-text-repr-fallback\"><pre>Pipeline(steps=[(&#x27;simpleimputer&#x27;, SimpleImputer()),\n",
              "                (&#x27;standardscaler&#x27;, StandardScaler())])</pre><b>Please rerun this cell to show the HTML repr or trust the notebook.</b></div><div class=\"sk-container\" hidden><div class=\"sk-item sk-dashed-wrapped\"><div class=\"sk-label-container\"><div class=\"sk-label sk-toggleable\"><input class=\"sk-toggleable__control sk-hidden--visually\" id=\"e13b347b-5c46-457c-acf4-ca210d78ddc2\" type=\"checkbox\" ><label for=\"e13b347b-5c46-457c-acf4-ca210d78ddc2\" class=\"sk-toggleable__label sk-toggleable__label-arrow\">Pipeline</label><div class=\"sk-toggleable__content\"><pre>Pipeline(steps=[(&#x27;simpleimputer&#x27;, SimpleImputer()),\n",
              "                (&#x27;standardscaler&#x27;, StandardScaler())])</pre></div></div></div><div class=\"sk-serial\"><div class=\"sk-item\"><div class=\"sk-estimator sk-toggleable\"><input class=\"sk-toggleable__control sk-hidden--visually\" id=\"1f8732a6-a34b-4149-8e2d-aa9b2264f38d\" type=\"checkbox\" ><label for=\"1f8732a6-a34b-4149-8e2d-aa9b2264f38d\" class=\"sk-toggleable__label sk-toggleable__label-arrow\">SimpleImputer</label><div class=\"sk-toggleable__content\"><pre>SimpleImputer()</pre></div></div></div><div class=\"sk-item\"><div class=\"sk-estimator sk-toggleable\"><input class=\"sk-toggleable__control sk-hidden--visually\" id=\"5c11a09a-f6d0-42b1-9e9f-c639faf8c03e\" type=\"checkbox\" ><label for=\"5c11a09a-f6d0-42b1-9e9f-c639faf8c03e\" class=\"sk-toggleable__label sk-toggleable__label-arrow\">StandardScaler</label><div class=\"sk-toggleable__content\"><pre>StandardScaler()</pre></div></div></div></div></div></div></div>"
            ]
          },
          "metadata": {},
          "execution_count": 13
        }
      ]
    },
    {
      "cell_type": "code",
      "source": [
        "categorical_pipeline = make_pipeline(constant_imputer,ohe)\n",
        "categorical_pipeline"
      ],
      "metadata": {
        "colab": {
          "base_uri": "https://localhost:8080/",
          "height": 124
        },
        "id": "bT1NbJ0E7kc8",
        "outputId": "9b7aac2a-6c92-4f7c-f195-631e30b0f636"
      },
      "execution_count": 14,
      "outputs": [
        {
          "output_type": "execute_result",
          "data": {
            "text/plain": [
              "Pipeline(steps=[('simpleimputer',\n",
              "                 SimpleImputer(fill_value='Small', strategy='constant')),\n",
              "                ('onehotencoder',\n",
              "                 OneHotEncoder(handle_unknown='ignore', sparse=False))])"
            ],
            "text/html": [
              "<style>#sk-15770622-af26-47aa-ab12-7ae47b29857e {color: black;background-color: white;}#sk-15770622-af26-47aa-ab12-7ae47b29857e pre{padding: 0;}#sk-15770622-af26-47aa-ab12-7ae47b29857e div.sk-toggleable {background-color: white;}#sk-15770622-af26-47aa-ab12-7ae47b29857e label.sk-toggleable__label {cursor: pointer;display: block;width: 100%;margin-bottom: 0;padding: 0.3em;box-sizing: border-box;text-align: center;}#sk-15770622-af26-47aa-ab12-7ae47b29857e label.sk-toggleable__label-arrow:before {content: \"▸\";float: left;margin-right: 0.25em;color: #696969;}#sk-15770622-af26-47aa-ab12-7ae47b29857e label.sk-toggleable__label-arrow:hover:before {color: black;}#sk-15770622-af26-47aa-ab12-7ae47b29857e div.sk-estimator:hover label.sk-toggleable__label-arrow:before {color: black;}#sk-15770622-af26-47aa-ab12-7ae47b29857e div.sk-toggleable__content {max-height: 0;max-width: 0;overflow: hidden;text-align: left;background-color: #f0f8ff;}#sk-15770622-af26-47aa-ab12-7ae47b29857e div.sk-toggleable__content pre {margin: 0.2em;color: black;border-radius: 0.25em;background-color: #f0f8ff;}#sk-15770622-af26-47aa-ab12-7ae47b29857e input.sk-toggleable__control:checked~div.sk-toggleable__content {max-height: 200px;max-width: 100%;overflow: auto;}#sk-15770622-af26-47aa-ab12-7ae47b29857e input.sk-toggleable__control:checked~label.sk-toggleable__label-arrow:before {content: \"▾\";}#sk-15770622-af26-47aa-ab12-7ae47b29857e div.sk-estimator input.sk-toggleable__control:checked~label.sk-toggleable__label {background-color: #d4ebff;}#sk-15770622-af26-47aa-ab12-7ae47b29857e div.sk-label input.sk-toggleable__control:checked~label.sk-toggleable__label {background-color: #d4ebff;}#sk-15770622-af26-47aa-ab12-7ae47b29857e input.sk-hidden--visually {border: 0;clip: rect(1px 1px 1px 1px);clip: rect(1px, 1px, 1px, 1px);height: 1px;margin: -1px;overflow: hidden;padding: 0;position: absolute;width: 1px;}#sk-15770622-af26-47aa-ab12-7ae47b29857e div.sk-estimator {font-family: monospace;background-color: #f0f8ff;border: 1px dotted black;border-radius: 0.25em;box-sizing: border-box;margin-bottom: 0.5em;}#sk-15770622-af26-47aa-ab12-7ae47b29857e div.sk-estimator:hover {background-color: #d4ebff;}#sk-15770622-af26-47aa-ab12-7ae47b29857e div.sk-parallel-item::after {content: \"\";width: 100%;border-bottom: 1px solid gray;flex-grow: 1;}#sk-15770622-af26-47aa-ab12-7ae47b29857e div.sk-label:hover label.sk-toggleable__label {background-color: #d4ebff;}#sk-15770622-af26-47aa-ab12-7ae47b29857e div.sk-serial::before {content: \"\";position: absolute;border-left: 1px solid gray;box-sizing: border-box;top: 2em;bottom: 0;left: 50%;}#sk-15770622-af26-47aa-ab12-7ae47b29857e div.sk-serial {display: flex;flex-direction: column;align-items: center;background-color: white;padding-right: 0.2em;padding-left: 0.2em;}#sk-15770622-af26-47aa-ab12-7ae47b29857e div.sk-item {z-index: 1;}#sk-15770622-af26-47aa-ab12-7ae47b29857e div.sk-parallel {display: flex;align-items: stretch;justify-content: center;background-color: white;}#sk-15770622-af26-47aa-ab12-7ae47b29857e div.sk-parallel::before {content: \"\";position: absolute;border-left: 1px solid gray;box-sizing: border-box;top: 2em;bottom: 0;left: 50%;}#sk-15770622-af26-47aa-ab12-7ae47b29857e div.sk-parallel-item {display: flex;flex-direction: column;position: relative;background-color: white;}#sk-15770622-af26-47aa-ab12-7ae47b29857e div.sk-parallel-item:first-child::after {align-self: flex-end;width: 50%;}#sk-15770622-af26-47aa-ab12-7ae47b29857e div.sk-parallel-item:last-child::after {align-self: flex-start;width: 50%;}#sk-15770622-af26-47aa-ab12-7ae47b29857e div.sk-parallel-item:only-child::after {width: 0;}#sk-15770622-af26-47aa-ab12-7ae47b29857e div.sk-dashed-wrapped {border: 1px dashed gray;margin: 0 0.4em 0.5em 0.4em;box-sizing: border-box;padding-bottom: 0.4em;background-color: white;position: relative;}#sk-15770622-af26-47aa-ab12-7ae47b29857e div.sk-label label {font-family: monospace;font-weight: bold;background-color: white;display: inline-block;line-height: 1.2em;}#sk-15770622-af26-47aa-ab12-7ae47b29857e div.sk-label-container {position: relative;z-index: 2;text-align: center;}#sk-15770622-af26-47aa-ab12-7ae47b29857e div.sk-container {/* jupyter's `normalize.less` sets `[hidden] { display: none; }` but bootstrap.min.css set `[hidden] { display: none !important; }` so we also need the `!important` here to be able to override the default hidden behavior on the sphinx rendered scikit-learn.org. See: https://github.com/scikit-learn/scikit-learn/issues/21755 */display: inline-block !important;position: relative;}#sk-15770622-af26-47aa-ab12-7ae47b29857e div.sk-text-repr-fallback {display: none;}</style><div id=\"sk-15770622-af26-47aa-ab12-7ae47b29857e\" class=\"sk-top-container\"><div class=\"sk-text-repr-fallback\"><pre>Pipeline(steps=[(&#x27;simpleimputer&#x27;,\n",
              "                 SimpleImputer(fill_value=&#x27;Small&#x27;, strategy=&#x27;constant&#x27;)),\n",
              "                (&#x27;onehotencoder&#x27;,\n",
              "                 OneHotEncoder(handle_unknown=&#x27;ignore&#x27;, sparse=False))])</pre><b>Please rerun this cell to show the HTML repr or trust the notebook.</b></div><div class=\"sk-container\" hidden><div class=\"sk-item sk-dashed-wrapped\"><div class=\"sk-label-container\"><div class=\"sk-label sk-toggleable\"><input class=\"sk-toggleable__control sk-hidden--visually\" id=\"8c9db389-8add-4e3e-858f-483b7940fdf0\" type=\"checkbox\" ><label for=\"8c9db389-8add-4e3e-858f-483b7940fdf0\" class=\"sk-toggleable__label sk-toggleable__label-arrow\">Pipeline</label><div class=\"sk-toggleable__content\"><pre>Pipeline(steps=[(&#x27;simpleimputer&#x27;,\n",
              "                 SimpleImputer(fill_value=&#x27;Small&#x27;, strategy=&#x27;constant&#x27;)),\n",
              "                (&#x27;onehotencoder&#x27;,\n",
              "                 OneHotEncoder(handle_unknown=&#x27;ignore&#x27;, sparse=False))])</pre></div></div></div><div class=\"sk-serial\"><div class=\"sk-item\"><div class=\"sk-estimator sk-toggleable\"><input class=\"sk-toggleable__control sk-hidden--visually\" id=\"805bf081-352f-488a-bc5a-edd06c7f37cd\" type=\"checkbox\" ><label for=\"805bf081-352f-488a-bc5a-edd06c7f37cd\" class=\"sk-toggleable__label sk-toggleable__label-arrow\">SimpleImputer</label><div class=\"sk-toggleable__content\"><pre>SimpleImputer(fill_value=&#x27;Small&#x27;, strategy=&#x27;constant&#x27;)</pre></div></div></div><div class=\"sk-item\"><div class=\"sk-estimator sk-toggleable\"><input class=\"sk-toggleable__control sk-hidden--visually\" id=\"fe91c592-de1a-4b15-8cf5-3bad76c5a685\" type=\"checkbox\" ><label for=\"fe91c592-de1a-4b15-8cf5-3bad76c5a685\" class=\"sk-toggleable__label sk-toggleable__label-arrow\">OneHotEncoder</label><div class=\"sk-toggleable__content\"><pre>OneHotEncoder(handle_unknown=&#x27;ignore&#x27;, sparse=False)</pre></div></div></div></div></div></div></div>"
            ]
          },
          "metadata": {},
          "execution_count": 14
        }
      ]
    },
    {
      "cell_type": "code",
      "source": [
        "# Tuples for Column Transformer\n",
        "number_tuple = (numeric_pipeline, numeric_columns)\n",
        "category_tuple = (categorical_pipeline, categorical_columns)\n",
        "# ColumnTransformer\n",
        "preprocessor = make_column_transformer(number_tuple, category_tuple)\n",
        "preprocessor"
      ],
      "metadata": {
        "colab": {
          "base_uri": "https://localhost:8080/",
          "height": 150
        },
        "id": "4PDXwEog8EF5",
        "outputId": "dda565f8-e75b-488f-9fa2-c263d09f5e54"
      },
      "execution_count": 15,
      "outputs": [
        {
          "output_type": "execute_result",
          "data": {
            "text/plain": [
              "ColumnTransformer(transformers=[('pipeline-1',\n",
              "                                 Pipeline(steps=[('simpleimputer',\n",
              "                                                  SimpleImputer()),\n",
              "                                                 ('standardscaler',\n",
              "                                                  StandardScaler())]),\n",
              "                                 <sklearn.compose._column_transformer.make_column_selector object at 0x7f3e4c3590a0>),\n",
              "                                ('pipeline-2',\n",
              "                                 Pipeline(steps=[('simpleimputer',\n",
              "                                                  SimpleImputer(fill_value='Small',\n",
              "                                                                strategy='constant')),\n",
              "                                                 ('onehotencoder',\n",
              "                                                  OneHotEncoder(handle_unknown='ignore',\n",
              "                                                                sparse=False))]),\n",
              "                                 <sklearn.compose._column_transformer.make_column_selector object at 0x7f3e4c3592e0>)])"
            ],
            "text/html": [
              "<style>#sk-8552a11a-8a9f-4b27-84c5-2c953b52b8f3 {color: black;background-color: white;}#sk-8552a11a-8a9f-4b27-84c5-2c953b52b8f3 pre{padding: 0;}#sk-8552a11a-8a9f-4b27-84c5-2c953b52b8f3 div.sk-toggleable {background-color: white;}#sk-8552a11a-8a9f-4b27-84c5-2c953b52b8f3 label.sk-toggleable__label {cursor: pointer;display: block;width: 100%;margin-bottom: 0;padding: 0.3em;box-sizing: border-box;text-align: center;}#sk-8552a11a-8a9f-4b27-84c5-2c953b52b8f3 label.sk-toggleable__label-arrow:before {content: \"▸\";float: left;margin-right: 0.25em;color: #696969;}#sk-8552a11a-8a9f-4b27-84c5-2c953b52b8f3 label.sk-toggleable__label-arrow:hover:before {color: black;}#sk-8552a11a-8a9f-4b27-84c5-2c953b52b8f3 div.sk-estimator:hover label.sk-toggleable__label-arrow:before {color: black;}#sk-8552a11a-8a9f-4b27-84c5-2c953b52b8f3 div.sk-toggleable__content {max-height: 0;max-width: 0;overflow: hidden;text-align: left;background-color: #f0f8ff;}#sk-8552a11a-8a9f-4b27-84c5-2c953b52b8f3 div.sk-toggleable__content pre {margin: 0.2em;color: black;border-radius: 0.25em;background-color: #f0f8ff;}#sk-8552a11a-8a9f-4b27-84c5-2c953b52b8f3 input.sk-toggleable__control:checked~div.sk-toggleable__content {max-height: 200px;max-width: 100%;overflow: auto;}#sk-8552a11a-8a9f-4b27-84c5-2c953b52b8f3 input.sk-toggleable__control:checked~label.sk-toggleable__label-arrow:before {content: \"▾\";}#sk-8552a11a-8a9f-4b27-84c5-2c953b52b8f3 div.sk-estimator input.sk-toggleable__control:checked~label.sk-toggleable__label {background-color: #d4ebff;}#sk-8552a11a-8a9f-4b27-84c5-2c953b52b8f3 div.sk-label input.sk-toggleable__control:checked~label.sk-toggleable__label {background-color: #d4ebff;}#sk-8552a11a-8a9f-4b27-84c5-2c953b52b8f3 input.sk-hidden--visually {border: 0;clip: rect(1px 1px 1px 1px);clip: rect(1px, 1px, 1px, 1px);height: 1px;margin: -1px;overflow: hidden;padding: 0;position: absolute;width: 1px;}#sk-8552a11a-8a9f-4b27-84c5-2c953b52b8f3 div.sk-estimator {font-family: monospace;background-color: #f0f8ff;border: 1px dotted black;border-radius: 0.25em;box-sizing: border-box;margin-bottom: 0.5em;}#sk-8552a11a-8a9f-4b27-84c5-2c953b52b8f3 div.sk-estimator:hover {background-color: #d4ebff;}#sk-8552a11a-8a9f-4b27-84c5-2c953b52b8f3 div.sk-parallel-item::after {content: \"\";width: 100%;border-bottom: 1px solid gray;flex-grow: 1;}#sk-8552a11a-8a9f-4b27-84c5-2c953b52b8f3 div.sk-label:hover label.sk-toggleable__label {background-color: #d4ebff;}#sk-8552a11a-8a9f-4b27-84c5-2c953b52b8f3 div.sk-serial::before {content: \"\";position: absolute;border-left: 1px solid gray;box-sizing: border-box;top: 2em;bottom: 0;left: 50%;}#sk-8552a11a-8a9f-4b27-84c5-2c953b52b8f3 div.sk-serial {display: flex;flex-direction: column;align-items: center;background-color: white;padding-right: 0.2em;padding-left: 0.2em;}#sk-8552a11a-8a9f-4b27-84c5-2c953b52b8f3 div.sk-item {z-index: 1;}#sk-8552a11a-8a9f-4b27-84c5-2c953b52b8f3 div.sk-parallel {display: flex;align-items: stretch;justify-content: center;background-color: white;}#sk-8552a11a-8a9f-4b27-84c5-2c953b52b8f3 div.sk-parallel::before {content: \"\";position: absolute;border-left: 1px solid gray;box-sizing: border-box;top: 2em;bottom: 0;left: 50%;}#sk-8552a11a-8a9f-4b27-84c5-2c953b52b8f3 div.sk-parallel-item {display: flex;flex-direction: column;position: relative;background-color: white;}#sk-8552a11a-8a9f-4b27-84c5-2c953b52b8f3 div.sk-parallel-item:first-child::after {align-self: flex-end;width: 50%;}#sk-8552a11a-8a9f-4b27-84c5-2c953b52b8f3 div.sk-parallel-item:last-child::after {align-self: flex-start;width: 50%;}#sk-8552a11a-8a9f-4b27-84c5-2c953b52b8f3 div.sk-parallel-item:only-child::after {width: 0;}#sk-8552a11a-8a9f-4b27-84c5-2c953b52b8f3 div.sk-dashed-wrapped {border: 1px dashed gray;margin: 0 0.4em 0.5em 0.4em;box-sizing: border-box;padding-bottom: 0.4em;background-color: white;position: relative;}#sk-8552a11a-8a9f-4b27-84c5-2c953b52b8f3 div.sk-label label {font-family: monospace;font-weight: bold;background-color: white;display: inline-block;line-height: 1.2em;}#sk-8552a11a-8a9f-4b27-84c5-2c953b52b8f3 div.sk-label-container {position: relative;z-index: 2;text-align: center;}#sk-8552a11a-8a9f-4b27-84c5-2c953b52b8f3 div.sk-container {/* jupyter's `normalize.less` sets `[hidden] { display: none; }` but bootstrap.min.css set `[hidden] { display: none !important; }` so we also need the `!important` here to be able to override the default hidden behavior on the sphinx rendered scikit-learn.org. See: https://github.com/scikit-learn/scikit-learn/issues/21755 */display: inline-block !important;position: relative;}#sk-8552a11a-8a9f-4b27-84c5-2c953b52b8f3 div.sk-text-repr-fallback {display: none;}</style><div id=\"sk-8552a11a-8a9f-4b27-84c5-2c953b52b8f3\" class=\"sk-top-container\"><div class=\"sk-text-repr-fallback\"><pre>ColumnTransformer(transformers=[(&#x27;pipeline-1&#x27;,\n",
              "                                 Pipeline(steps=[(&#x27;simpleimputer&#x27;,\n",
              "                                                  SimpleImputer()),\n",
              "                                                 (&#x27;standardscaler&#x27;,\n",
              "                                                  StandardScaler())]),\n",
              "                                 &lt;sklearn.compose._column_transformer.make_column_selector object at 0x7f3e4c3590a0&gt;),\n",
              "                                (&#x27;pipeline-2&#x27;,\n",
              "                                 Pipeline(steps=[(&#x27;simpleimputer&#x27;,\n",
              "                                                  SimpleImputer(fill_value=&#x27;Small&#x27;,\n",
              "                                                                strategy=&#x27;constant&#x27;)),\n",
              "                                                 (&#x27;onehotencoder&#x27;,\n",
              "                                                  OneHotEncoder(handle_unknown=&#x27;ignore&#x27;,\n",
              "                                                                sparse=False))]),\n",
              "                                 &lt;sklearn.compose._column_transformer.make_column_selector object at 0x7f3e4c3592e0&gt;)])</pre><b>Please rerun this cell to show the HTML repr or trust the notebook.</b></div><div class=\"sk-container\" hidden><div class=\"sk-item sk-dashed-wrapped\"><div class=\"sk-label-container\"><div class=\"sk-label sk-toggleable\"><input class=\"sk-toggleable__control sk-hidden--visually\" id=\"60bc00fb-6231-4b4d-9ba8-269dc8ef9d09\" type=\"checkbox\" ><label for=\"60bc00fb-6231-4b4d-9ba8-269dc8ef9d09\" class=\"sk-toggleable__label sk-toggleable__label-arrow\">ColumnTransformer</label><div class=\"sk-toggleable__content\"><pre>ColumnTransformer(transformers=[(&#x27;pipeline-1&#x27;,\n",
              "                                 Pipeline(steps=[(&#x27;simpleimputer&#x27;,\n",
              "                                                  SimpleImputer()),\n",
              "                                                 (&#x27;standardscaler&#x27;,\n",
              "                                                  StandardScaler())]),\n",
              "                                 &lt;sklearn.compose._column_transformer.make_column_selector object at 0x7f3e4c3590a0&gt;),\n",
              "                                (&#x27;pipeline-2&#x27;,\n",
              "                                 Pipeline(steps=[(&#x27;simpleimputer&#x27;,\n",
              "                                                  SimpleImputer(fill_value=&#x27;Small&#x27;,\n",
              "                                                                strategy=&#x27;constant&#x27;)),\n",
              "                                                 (&#x27;onehotencoder&#x27;,\n",
              "                                                  OneHotEncoder(handle_unknown=&#x27;ignore&#x27;,\n",
              "                                                                sparse=False))]),\n",
              "                                 &lt;sklearn.compose._column_transformer.make_column_selector object at 0x7f3e4c3592e0&gt;)])</pre></div></div></div><div class=\"sk-parallel\"><div class=\"sk-parallel-item\"><div class=\"sk-item\"><div class=\"sk-label-container\"><div class=\"sk-label sk-toggleable\"><input class=\"sk-toggleable__control sk-hidden--visually\" id=\"933458a7-37a3-4bbc-9e13-011bd2740237\" type=\"checkbox\" ><label for=\"933458a7-37a3-4bbc-9e13-011bd2740237\" class=\"sk-toggleable__label sk-toggleable__label-arrow\">pipeline-1</label><div class=\"sk-toggleable__content\"><pre>&lt;sklearn.compose._column_transformer.make_column_selector object at 0x7f3e4c3590a0&gt;</pre></div></div></div><div class=\"sk-serial\"><div class=\"sk-item\"><div class=\"sk-serial\"><div class=\"sk-item\"><div class=\"sk-estimator sk-toggleable\"><input class=\"sk-toggleable__control sk-hidden--visually\" id=\"77f7d750-0c5d-4cbc-9fe4-bde7b6e51ba6\" type=\"checkbox\" ><label for=\"77f7d750-0c5d-4cbc-9fe4-bde7b6e51ba6\" class=\"sk-toggleable__label sk-toggleable__label-arrow\">SimpleImputer</label><div class=\"sk-toggleable__content\"><pre>SimpleImputer()</pre></div></div></div><div class=\"sk-item\"><div class=\"sk-estimator sk-toggleable\"><input class=\"sk-toggleable__control sk-hidden--visually\" id=\"c04dab15-e33d-4f71-aae8-fe93ac756e4d\" type=\"checkbox\" ><label for=\"c04dab15-e33d-4f71-aae8-fe93ac756e4d\" class=\"sk-toggleable__label sk-toggleable__label-arrow\">StandardScaler</label><div class=\"sk-toggleable__content\"><pre>StandardScaler()</pre></div></div></div></div></div></div></div></div><div class=\"sk-parallel-item\"><div class=\"sk-item\"><div class=\"sk-label-container\"><div class=\"sk-label sk-toggleable\"><input class=\"sk-toggleable__control sk-hidden--visually\" id=\"ef5ac4e2-4d26-4e2e-9c57-f79919b403e0\" type=\"checkbox\" ><label for=\"ef5ac4e2-4d26-4e2e-9c57-f79919b403e0\" class=\"sk-toggleable__label sk-toggleable__label-arrow\">pipeline-2</label><div class=\"sk-toggleable__content\"><pre>&lt;sklearn.compose._column_transformer.make_column_selector object at 0x7f3e4c3592e0&gt;</pre></div></div></div><div class=\"sk-serial\"><div class=\"sk-item\"><div class=\"sk-serial\"><div class=\"sk-item\"><div class=\"sk-estimator sk-toggleable\"><input class=\"sk-toggleable__control sk-hidden--visually\" id=\"0b6602b0-0493-4f94-9539-edd2b9f1b42c\" type=\"checkbox\" ><label for=\"0b6602b0-0493-4f94-9539-edd2b9f1b42c\" class=\"sk-toggleable__label sk-toggleable__label-arrow\">SimpleImputer</label><div class=\"sk-toggleable__content\"><pre>SimpleImputer(fill_value=&#x27;Small&#x27;, strategy=&#x27;constant&#x27;)</pre></div></div></div><div class=\"sk-item\"><div class=\"sk-estimator sk-toggleable\"><input class=\"sk-toggleable__control sk-hidden--visually\" id=\"1377fd23-c7a1-4352-b385-b1f51ff5bcf1\" type=\"checkbox\" ><label for=\"1377fd23-c7a1-4352-b385-b1f51ff5bcf1\" class=\"sk-toggleable__label sk-toggleable__label-arrow\">OneHotEncoder</label><div class=\"sk-toggleable__content\"><pre>OneHotEncoder(handle_unknown=&#x27;ignore&#x27;, sparse=False)</pre></div></div></div></div></div></div></div></div></div></div></div></div>"
            ]
          },
          "metadata": {},
          "execution_count": 15
        }
      ]
    },
    {
      "cell_type": "code",
      "source": [
        "#fit train data to column transformer and then transform data\n",
        "\n",
        "preprocessor.fit(X_train)\n",
        "\n",
        "X_train_processed = preprocessor.transform(X_train)\n",
        "X_test_processed = preprocessor.transform(X_test)"
      ],
      "metadata": {
        "id": "BcnVE6WQ8gCy"
      },
      "execution_count": 16,
      "outputs": []
    },
    {
      "cell_type": "code",
      "source": [
        "#resulting numpy array\n",
        "print(np.isnan(X_train_processed).sum().sum(), 'missing values in training data')\n",
        "print(np.isnan(X_test_processed).sum().sum(), 'missing values in testing data')\n",
        "print('\\n')\n",
        "print('All data in X_train_processed are', X_train_processed.dtype)\n",
        "print('All data in X_test_processed are', X_test_processed.dtype)\n",
        "print('\\n')\n",
        "print('shape of data is', X_train_processed.shape)\n",
        "print('\\n')\n",
        "X_train_processed"
      ],
      "metadata": {
        "colab": {
          "base_uri": "https://localhost:8080/"
        },
        "id": "2rCRGzOr3QWZ",
        "outputId": "308bcb5f-5907-4bc3-d858-598eda464f96"
      },
      "execution_count": 17,
      "outputs": [
        {
          "output_type": "stream",
          "name": "stdout",
          "text": [
            "0 missing values in training data\n",
            "0 missing values in testing data\n",
            "\n",
            "\n",
            "All data in X_train_processed are float64\n",
            "All data in X_test_processed are float64\n",
            "\n",
            "\n",
            "shape of data is (6392, 31)\n",
            "\n",
            "\n"
          ]
        },
        {
          "output_type": "execute_result",
          "data": {
            "text/plain": [
              "array([[ 0.81724868, -0.7403206 , -0.71277507, ...,  0.        ,\n",
              "         1.        ,  0.        ],\n",
              "       [ 0.5563395 ,  1.35076614, -1.29105225, ...,  0.        ,\n",
              "         1.        ,  0.        ],\n",
              "       [-0.13151196,  1.35076614,  1.81331864, ...,  1.        ,\n",
              "         0.        ,  0.        ],\n",
              "       ...,\n",
              "       [ 1.11373638, -0.7403206 , -0.92052713, ...,  1.        ,\n",
              "         0.        ,  0.        ],\n",
              "       [ 1.76600931, -0.7403206 , -0.2277552 , ...,  1.        ,\n",
              "         0.        ,  0.        ],\n",
              "       [ 0.81724868, -0.7403206 , -0.95867683, ...,  1.        ,\n",
              "         0.        ,  0.        ]])"
            ]
          },
          "metadata": {},
          "execution_count": 17
        }
      ]
    },
    {
      "cell_type": "code",
      "source": [
        "#fit processed data to Ridge regression model and evaluate\n",
        "\n",
        "ridge_model = Ridge()\n",
        "ridge_model.fit(X_train_processed,y_train)\n",
        "\n",
        "ridge_reg_train_score = ridge_model.score(X_train_processed,y_train)\n",
        "ridge_reg_test_score = ridge_model.score(X_test_processed,y_test)\n",
        "\n",
        "\n",
        "print('Training')\n",
        "evaluate_regression(y_train, ridge_model.predict(X_train_processed))\n",
        "print ('\\n')\n",
        "print('Testing')\n",
        "evaluate_regression(y_test, ridge_model.predict(X_test_processed))\n",
        "\n",
        "#results show model with low bias (based on error metrics) and low variance (R2 for the training and test sets are very close)\n"
      ],
      "metadata": {
        "colab": {
          "base_uri": "https://localhost:8080/"
        },
        "id": "-wIlgoVj33iK",
        "outputId": "9cc34541-b457-4798-9957-c7ca797a088b"
      },
      "execution_count": 28,
      "outputs": [
        {
          "output_type": "stream",
          "name": "stdout",
          "text": [
            "Training\n",
            "scores: \n",
            "MAE: 847.51 \n",
            "MSE: 1,298,937.25 \n",
            "RMSE: 1,139.71 \n",
            "R2: 0.56\n",
            "\n",
            "\n",
            "Testing\n",
            "scores: \n",
            "MAE: 805.09 \n",
            "MSE: 1,196,520.71 \n",
            "RMSE: 1,093.86 \n",
            "R2: 0.57\n"
          ]
        }
      ]
    },
    {
      "cell_type": "code",
      "source": [
        "ridge_model.get_params()\n",
        "ridge_param_grid = {'alpha': [2, 1, 1.5, 1.2]}\n",
        "ridge_gs = GridSearchCV(ridge_model, ridge_param_grid)\n",
        "\n",
        "results = ridge_gs.fit(X_train_processed, y_train)\n",
        "# perform the search\n",
        "print('R2: %.3f' % results.best_score_)\n",
        "print('Config: %s' % results.best_params_)"
      ],
      "metadata": {
        "colab": {
          "base_uri": "https://localhost:8080/"
        },
        "id": "CKL0eSYv7HBC",
        "outputId": "5eb9105d-08af-427c-9bf1-7a08d92b7785"
      },
      "execution_count": 51,
      "outputs": [
        {
          "output_type": "stream",
          "name": "stdout",
          "text": [
            "R2: 0.556\n",
            "Config: {'alpha': 1.5}\n"
          ]
        }
      ]
    },
    {
      "cell_type": "code",
      "source": [
        "#fit processed data to Lasso regression model and evaluate\n",
        "\n",
        "lasso_model = Lasso()\n",
        "lasso_model.fit(X_train_processed,y_train)\n",
        "\n",
        "lasso_reg_train_score = lasso_model.score(X_train_processed,y_train)\n",
        "lasso_reg_test_score = lasso_model.score(X_test_processed,y_test)\n",
        "\n",
        "\n",
        "print('Training')\n",
        "evaluate_regression(y_train, lasso_model.predict(X_train_processed))\n",
        "print ('\\n')\n",
        "print('Testing')\n",
        "evaluate_regression(y_test, lasso_model.predict(X_test_processed))\n",
        "\n",
        "#results show model with low bias (based on error metrics) and low variance (R2 for the training and test sets are very close)\n"
      ],
      "metadata": {
        "colab": {
          "base_uri": "https://localhost:8080/"
        },
        "id": "BjOVKx3C4bAT",
        "outputId": "29a7d962-2e02-45c1-ce50-9ddfe20109bc"
      },
      "execution_count": 29,
      "outputs": [
        {
          "output_type": "stream",
          "name": "stdout",
          "text": [
            "Training\n",
            "scores: \n",
            "MAE: 847.40 \n",
            "MSE: 1,300,108.38 \n",
            "RMSE: 1,140.22 \n",
            "R2: 0.56\n",
            "\n",
            "\n",
            "Testing\n",
            "scores: \n",
            "MAE: 804.78 \n",
            "MSE: 1,195,705.78 \n",
            "RMSE: 1,093.48 \n",
            "R2: 0.57\n"
          ]
        }
      ]
    },
    {
      "cell_type": "code",
      "source": [
        "lasso_model.get_params()\n",
        "lasso_param_grid = {'alpha': [2, 1, 1.5, 1.2]}\n",
        "lasso_gs = GridSearchCV(lasso_model, lasso_param_grid)\n",
        "\n",
        "results2 = lasso_gs.fit(X_train_processed, y_train)\n",
        "# perform the search\n",
        "print('R2: %.3f' % results2.best_score_)\n",
        "print('Config: %s' % results2.best_params_)"
      ],
      "metadata": {
        "colab": {
          "base_uri": "https://localhost:8080/"
        },
        "id": "PpNo10YM-MVW",
        "outputId": "3bc10aad-924f-4879-b7d2-ef985246e4a6"
      },
      "execution_count": 58,
      "outputs": [
        {
          "output_type": "stream",
          "name": "stdout",
          "text": [
            "R2: 0.557\n",
            "Config: {'alpha': 2}\n"
          ]
        }
      ]
    },
    {
      "cell_type": "code",
      "source": [
        "#fit processed data to Elastic Net regression model and evaluate\n",
        "\n",
        "enet_model = ElasticNet()\n",
        "enet_model.fit(X_train_processed,y_train)\n",
        "\n",
        "enet_reg_train_score = enet_model.score(X_train_processed,y_train)\n",
        "enet_reg_test_score = enet_model.score(X_test_processed,y_test)\n",
        "\n",
        "\n",
        "print('Training')\n",
        "evaluate_regression(y_train, enet_model.predict(X_train_processed))\n",
        "print ('\\n')\n",
        "print('Testing')\n",
        "evaluate_regression(y_test, enet_model.predict(X_test_processed))\n",
        "\n",
        "#results show model with low bias (based on error metrics) and low variance (R2 for the training and test sets are very close)\n"
      ],
      "metadata": {
        "colab": {
          "base_uri": "https://localhost:8080/"
        },
        "id": "k7aJ8fqW4xA8",
        "outputId": "0952e087-50e3-4068-e156-9dfa75cb4f00"
      },
      "execution_count": 30,
      "outputs": [
        {
          "output_type": "stream",
          "name": "stdout",
          "text": [
            "Training\n",
            "scores: \n",
            "MAE: 999.61 \n",
            "MSE: 1,747,649.61 \n",
            "RMSE: 1,321.99 \n",
            "R2: 0.41\n",
            "\n",
            "\n",
            "Testing\n",
            "scores: \n",
            "MAE: 965.98 \n",
            "MSE: 1,622,480.30 \n",
            "RMSE: 1,273.77 \n",
            "R2: 0.41\n"
          ]
        }
      ]
    },
    {
      "cell_type": "code",
      "source": [
        "enet_model.get_params()\n",
        "\n",
        "enet_param_grid = {'alpha': [2, 1, 1.5, 1.2],\n",
        "                    'l1_ratio': [0.5,0.3,0.7]}\n",
        "enet_gs = GridSearchCV(enet_model, enet_param_grid)\n",
        "\n",
        "results3 = enet_gs.fit(X_train_processed, y_train)\n",
        "# perform the search\n",
        "print('R2: %.3f' % results3.best_score_)\n",
        "print('Config: %s' % results3.best_params_)"
      ],
      "metadata": {
        "colab": {
          "base_uri": "https://localhost:8080/"
        },
        "id": "1hlCtIwX-sCX",
        "outputId": "889dcb55-1562-4c0f-de12-5f5272075fbd"
      },
      "execution_count": 59,
      "outputs": [
        {
          "output_type": "stream",
          "name": "stdout",
          "text": [
            "R2: 0.456\n",
            "Config: {'alpha': 1, 'l1_ratio': 0.7}\n"
          ]
        }
      ]
    },
    {
      "cell_type": "code",
      "source": [
        "#fit processed data to linear regression model and evaluate\n",
        "\n",
        "linear_reg = LinearRegression()\n",
        "linear_reg.fit(X_train_processed,y_train)\n",
        "\n",
        "linear_reg_train_score = linear_reg.score(X_train_processed,y_train)\n",
        "linear_reg_test_score = linear_reg.score(X_test_processed,y_test)\n",
        "\n",
        "\n",
        "print('Training')\n",
        "evaluate_regression(y_train, linear_reg.predict(X_train_processed))\n",
        "print ('\\n')\n",
        "print('Testing')\n",
        "evaluate_regression(y_test, linear_reg.predict(X_test_processed))\n",
        "\n",
        "#results show model with low bias (based on error metrics) and low variance (R2 for the training and test sets are very close)\n"
      ],
      "metadata": {
        "colab": {
          "base_uri": "https://localhost:8080/"
        },
        "id": "TqclPUV3ekbL",
        "outputId": "df5a916c-8377-4956-b813-0e79af2ef704"
      },
      "execution_count": 18,
      "outputs": [
        {
          "output_type": "stream",
          "name": "stdout",
          "text": [
            "Training\n",
            "scores: \n",
            "MAE: 847.59 \n",
            "MSE: 1,298,900.53 \n",
            "RMSE: 1,139.69 \n",
            "R2: 0.56\n",
            "\n",
            "\n",
            "Testing\n",
            "scores: \n",
            "MAE: 805.00 \n",
            "MSE: 1,196,253.16 \n",
            "RMSE: 1,093.73 \n",
            "R2: 0.57\n"
          ]
        }
      ]
    },
    {
      "cell_type": "code",
      "source": [
        "#fit processed data to linear regression model and evaluate\n",
        "reg_tree = DecisionTreeRegressor(random_state=42)\n",
        "reg_tree.fit(X_train_processed,y_train)\n",
        "\n",
        "\n",
        "print('Training')\n",
        "evaluate_regression(y_train, reg_tree.predict(X_train_processed))\n",
        "print ('\\n')\n",
        "print('Testing')\n",
        "evaluate_regression(y_test, reg_tree.predict(X_test_processed))\n",
        "\n",
        "#results show high variance in the model. R2 is 1.0 which is very good, but the model does not perform well on the test data set (R2 of 0.2). We need to tune this model."
      ],
      "metadata": {
        "colab": {
          "base_uri": "https://localhost:8080/"
        },
        "id": "RjR8b9Nue6ai",
        "outputId": "51c4ab94-ccc8-44ac-910f-51d9e766f534"
      },
      "execution_count": 19,
      "outputs": [
        {
          "output_type": "stream",
          "name": "stdout",
          "text": [
            "Training\n",
            "scores: \n",
            "MAE: 0.00 \n",
            "MSE: 0.00 \n",
            "RMSE: 0.00 \n",
            "R2: 1.00\n",
            "\n",
            "\n",
            "Testing\n",
            "scores: \n",
            "MAE: 1,039.67 \n",
            "MSE: 2,202,384.66 \n",
            "RMSE: 1,484.04 \n",
            "R2: 0.20\n"
          ]
        }
      ]
    },
    {
      "cell_type": "code",
      "source": [
        "# 1. Run a regression tree model with default parameters (unlimited depth).\n",
        "# 2. Determine the depth of the default tree.\n",
        "reg_tree.get_depth()"
      ],
      "metadata": {
        "colab": {
          "base_uri": "https://localhost:8080/"
        },
        "id": "HVvutciyfWlU",
        "outputId": "97dc1b8f-f9be-4bfb-9b46-4659076c3c54"
      },
      "execution_count": 20,
      "outputs": [
        {
          "output_type": "execute_result",
          "data": {
            "text/plain": [
              "40"
            ]
          },
          "metadata": {},
          "execution_count": 20
        }
      ]
    },
    {
      "cell_type": "code",
      "source": [
        "# List of values to try from-rainbow\">for max_depth:\n",
        "depths = list(range(2, 40)) # will try every value between 2 and 40\n",
        "# Data frame to store the score for each value of max_depth:\n",
        "scores = pd.DataFrame(index=depths, columns=['Test Score','Train Score'])\n",
        "for depth in depths:\n",
        "    reg_tree = DecisionTreeRegressor(max_depth=depth, random_state=42)\n",
        "    reg_tree.fit(X_train_processed, y_train)\n",
        "    train_score = reg_tree.score(X_train_processed, y_train)\n",
        "    test_score = reg_tree.score(X_test_processed, y_test)\n",
        "    scores.loc[depth, 'Train Score'] = train_score\n",
        "    scores.loc[depth, 'Test Score'] = test_score\n",
        "\n",
        "plt.plot(depths, scores['Test Score'])\n",
        "plt.xlabel('max_depth')\n",
        "plt.ylabel('R2');\n",
        "\n"
      ],
      "metadata": {
        "colab": {
          "base_uri": "https://localhost:8080/",
          "height": 280
        },
        "id": "DPZ8uKeuj1Kb",
        "outputId": "5b514924-bd82-44b2-9f0a-4b4fe19de16f"
      },
      "execution_count": 21,
      "outputs": [
        {
          "output_type": "display_data",
          "data": {
            "text/plain": [
              "<Figure size 432x288 with 1 Axes>"
            ],
            "image/png": "[encoded data removed]"
          },
          "metadata": {
            "needs_background": "light"
          }
        }
      ]
    },
    {
      "cell_type": "code",
      "source": [
        "sorted_scores = scores.sort_values(by='Test Score', ascending=False)\n",
        "sorted_scores.head()"
      ],
      "metadata": {
        "colab": {
          "base_uri": "https://localhost:8080/",
          "height": 206
        },
        "id": "6iPSZBE4j5WT",
        "outputId": "29491c3f-5c6b-4c76-dd67-3a321a2aacf0"
      },
      "execution_count": 22,
      "outputs": [
        {
          "output_type": "execute_result",
          "data": {
            "text/plain": [
              "  Test Score Train Score\n",
              "5    0.59471     0.60394\n",
              "4   0.584005    0.582625\n",
              "6   0.582356    0.615072\n",
              "7   0.577047    0.626449\n",
              "8    0.56169     0.64275"
            ],
            "text/html": [
              "\n",
              "  <div id=\"df-44064113-9902-4084-ab00-13c77a302ce3\">\n",
              "    <div class=\"colab-df-container\">\n",
              "      <div>\n",
              "<style scoped>\n",
              "    .dataframe tbody tr th:only-of-type {\n",
              "        vertical-align: middle;\n",
              "    }\n",
              "\n",
              "    .dataframe tbody tr th {\n",
              "        vertical-align: top;\n",
              "    }\n",
              "\n",
              "    .dataframe thead th {\n",
              "        text-align: right;\n",
              "    }\n",
              "</style>\n",
              "<table border=\"1\" class=\"dataframe\">\n",
              "  <thead>\n",
              "    <tr style=\"text-align: right;\">\n",
              "      <th></th>\n",
              "      <th>Test Score</th>\n",
              "      <th>Train Score</th>\n",
              "    </tr>\n",
              "  </thead>\n",
              "  <tbody>\n",
              "    <tr>\n",
              "      <th>5</th>\n",
              "      <td>0.59471</td>\n",
              "      <td>0.60394</td>\n",
              "    </tr>\n",
              "    <tr>\n",
              "      <th>4</th>\n",
              "      <td>0.584005</td>\n",
              "      <td>0.582625</td>\n",
              "    </tr>\n",
              "    <tr>\n",
              "      <th>6</th>\n",
              "      <td>0.582356</td>\n",
              "      <td>0.615072</td>\n",
              "    </tr>\n",
              "    <tr>\n",
              "      <th>7</th>\n",
              "      <td>0.577047</td>\n",
              "      <td>0.626449</td>\n",
              "    </tr>\n",
              "    <tr>\n",
              "      <th>8</th>\n",
              "      <td>0.56169</td>\n",
              "      <td>0.64275</td>\n",
              "    </tr>\n",
              "  </tbody>\n",
              "</table>\n",
              "</div>\n",
              "      <button class=\"colab-df-convert\" onclick=\"convertToInteractive('df-44064113-9902-4084-ab00-13c77a302ce3')\"\n",
              "              title=\"Convert this dataframe to an interactive table.\"\n",
              "              style=\"display:none;\">\n",
              "        \n",
              "  <svg xmlns=\"http://www.w3.org/2000/svg\" height=\"24px\"viewBox=\"0 0 24 24\"\n",
              "       width=\"24px\">\n",
              "    <path d=\"M0 0h24v24H0V0z\" fill=\"none\"/>\n",
              "    <path d=\"M18.56 5.44l.94 2.06.94-2.06 2.06-.94-2.06-.94-.94-2.06-.94 2.06-2.06.94zm-11 1L8.5 8.5l.94-2.06 2.06-.94-2.06-.94L8.5 2.5l-.94 2.06-2.06.94zm10 10l.94 2.06.94-2.06 2.06-.94-2.06-.94-.94-2.06-.94 2.06-2.06.94z\"/><path d=\"M17.41 7.96l-1.37-1.37c-.4-.4-.92-.59-1.43-.59-.52 0-1.04.2-1.43.59L10.3 9.45l-7.72 7.72c-.78.78-.78 2.05 0 2.83L4 21.41c.39.39.9.59 1.41.59.51 0 1.02-.2 1.41-.59l7.78-7.78 2.81-2.81c.8-.78.8-2.07 0-2.86zM5.41 20L4 18.59l7.72-7.72 1.47 1.35L5.41 20z\"/>\n",
              "  </svg>\n",
              "      </button>\n",
              "      \n",
              "  <style>\n",
              "    .colab-df-container {\n",
              "      display:flex;\n",
              "      flex-wrap:wrap;\n",
              "      gap: 12px;\n",
              "    }\n",
              "\n",
              "    .colab-df-convert {\n",
              "      background-color: #E8F0FE;\n",
              "      border: none;\n",
              "      border-radius: 50%;\n",
              "      cursor: pointer;\n",
              "      display: none;\n",
              "      fill: #1967D2;\n",
              "      height: 32px;\n",
              "      padding: 0 0 0 0;\n",
              "      width: 32px;\n",
              "    }\n",
              "\n",
              "    .colab-df-convert:hover {\n",
              "      background-color: #E2EBFA;\n",
              "      box-shadow: 0px 1px 2px rgba(60, 64, 67, 0.3), 0px 1px 3px 1px rgba(60, 64, 67, 0.15);\n",
              "      fill: #174EA6;\n",
              "    }\n",
              "\n",
              "    [theme=dark] .colab-df-convert {\n",
              "      background-color: #3B4455;\n",
              "      fill: #D2E3FC;\n",
              "    }\n",
              "\n",
              "    [theme=dark] .colab-df-convert:hover {\n",
              "      background-color: #434B5C;\n",
              "      box-shadow: 0px 1px 3px 1px rgba(0, 0, 0, 0.15);\n",
              "      filter: drop-shadow(0px 1px 2px rgba(0, 0, 0, 0.3));\n",
              "      fill: #FFFFFF;\n",
              "    }\n",
              "  </style>\n",
              "\n",
              "      <script>\n",
              "        const buttonEl =\n",
              "          document.querySelector('#df-44064113-9902-4084-ab00-13c77a302ce3 button.colab-df-convert');\n",
              "        buttonEl.style.display =\n",
              "          google.colab.kernel.accessAllowed ? 'block' : 'none';\n",
              "\n",
              "        async function convertToInteractive(key) {\n",
              "          const element = document.querySelector('#df-44064113-9902-4084-ab00-13c77a302ce3');\n",
              "          const dataTable =\n",
              "            await google.colab.kernel.invokeFunction('convertToInteractive',\n",
              "                                                     [key], {});\n",
              "          if (!dataTable) return;\n",
              "\n",
              "          const docLinkHtml = 'Like what you see? Visit the ' +\n",
              "            '<a target=\"_blank\" href=https://colab.research.google.com/notebooks/data_table.ipynb>data table notebook</a>'\n",
              "            + ' to learn more about interactive tables.';\n",
              "          element.innerHTML = '';\n",
              "          dataTable['output_type'] = 'display_data';\n",
              "          await google.colab.output.renderOutput(dataTable, element);\n",
              "          const docLink = document.createElement('div');\n",
              "          docLink.innerHTML = docLinkHtml;\n",
              "          element.appendChild(docLink);\n",
              "        }\n",
              "      </script>\n",
              "    </div>\n",
              "  </div>\n",
              "  "
            ]
          },
          "metadata": {},
          "execution_count": 22
        }
      ]
    },
    {
      "cell_type": "code",
      "source": [
        "# 4. What is the r2 of your final model on the training set and on the test set?\n",
        "\n",
        "# Let's run the model with our optimized value for max_depth\n",
        "reg_tree_5 = DecisionTreeRegressor(max_depth = 5, random_state = 42)\n",
        "reg_tree_5.fit(X_train_processed, y_train)\n",
        "\n",
        "\n",
        "print('Training')\n",
        "evaluate_regression(y_train, reg_tree_5.predict(X_train_processed))\n",
        "print ('\\n')\n",
        "print('Testing')\n",
        "evaluate_regression(y_test, reg_tree_5.predict(X_test_processed))\n",
        "\n",
        "#After tuning, the results show a model with low bias (based on error metrics) and low variance (R2 for the training and test sets are very close)"
      ],
      "metadata": {
        "colab": {
          "base_uri": "https://localhost:8080/"
        },
        "id": "e67BjoMKkPgD",
        "outputId": "a0f2e797-42ca-4b35-ecc5-9b5ef948725f"
      },
      "execution_count": 23,
      "outputs": [
        {
          "output_type": "stream",
          "name": "stdout",
          "text": [
            "Training\n",
            "scores: \n",
            "MAE: 762.61 \n",
            "MSE: 1,172,122.77 \n",
            "RMSE: 1,082.65 \n",
            "R2: 0.60\n",
            "\n",
            "\n",
            "Testing\n",
            "scores: \n",
            "MAE: 738.32 \n",
            "MSE: 1,118,185.97 \n",
            "RMSE: 1,057.44 \n",
            "R2: 0.59\n"
          ]
        }
      ]
    },
    {
      "cell_type": "markdown",
      "source": [
        "Both models have low bias and variance and preform similarly but I would choose the tuned regression tree model as it has a higher R2 value and lower MAE/MSE/RMSE values."
      ],
      "metadata": {
        "id": "G22UhVry5u7s"
      }
    }
  ]
}